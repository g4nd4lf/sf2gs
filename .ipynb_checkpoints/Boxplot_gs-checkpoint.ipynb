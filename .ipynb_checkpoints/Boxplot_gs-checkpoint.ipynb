{
 "cells": [
  {
   "cell_type": "markdown",
   "id": "6effecf3-75e8-4b89-b84a-8d10443f8423",
   "metadata": {},
   "source": [
    "# Creación de boxplots con matplotlib y plotly"
   ]
  },
  {
   "cell_type": "markdown",
   "id": "59b0f8a5-bca6-4ba1-9db3-bd2d53897dee",
   "metadata": {},
   "source": [
    "## MATPLOTLIB"
   ]
  },
  {
   "cell_type": "code",
   "execution_count": 3,
   "id": "46ab0aef-b63e-4718-8885-fe37474a7cdd",
   "metadata": {},
   "outputs": [],
   "source": [
    "import pandas as pd\n",
    "#from myfuncs import db2df\n",
    "import matplotlib.pyplot as plt\n",
    "import numpy as np\n",
    "from fun_calib23 import gs_days,db2df,rounds2023,obtiene_tzyvpd,calculaJs_VPD\n",
    "from fun_calib23 import interpolar_dia,regresion,roundbox2023,df2box"
   ]
  },
  {
   "cell_type": "code",
   "execution_count": 4,
   "id": "46bc6659-ebb4-4ef2-94a7-4355582f227d",
   "metadata": {},
   "outputs": [],
   "source": [
    "\n",
    "DBTABLE='gs_irriwell2023'\n",
    "#df=db2df(DBTABLE) \n",
    "#station=1\n",
    "#tree=1\n",
    "df=roundbox2023(DBTABLE,station=1,tree=1)\n",
    "\n",
    "rounds = df.groupby('round').agg({'timestamp': 'mean', 'gsw': 'mean'}).reset_index()\n",
    "\n",
    "rounds.head()\n",
    "timestamps = pd.to_datetime(rounds[\"timestamp\"])\n",
    "tminutes = (timestamps - pd.Timestamp('1970-01-01')) // pd.Timedelta('1min')\n",
    "tminutes = tminutes.astype(int)\n",
    "\n",
    "tminutes=tminutes-tminutes[0]\n",
    "#print(df)\n",
    "df=df2box(df,\"gsw\",\"round\") #Esto me genera una columna por cada ronda, necesario para el boxplot\n",
    "#print(df)\n",
    "df.columns=timestamps"
   ]
  },
  {
   "cell_type": "code",
   "execution_count": 5,
   "id": "c7c2eee8-b47e-48a7-bb56-e94e8a1f93f6",
   "metadata": {},
   "outputs": [
    {
     "data": {
      "image/png": "[encoded data removed]",
      "text/plain": [
       "<Figure size 1000x700 with 1 Axes>"
      ]
     },
     "metadata": {},
     "output_type": "display_data"
    }
   ],
   "source": [
    "fig, ax = plt.subplots( figsize=(10,7) )\n",
    "# Creating plot\n",
    "df1=df.iloc[:,:5]\n",
    "ax.boxplot( df1, vert=True, positions=tminutes[:5] )\n",
    "xmin=tminutes[0]-100\n",
    "xmax=tminutes[4]+100\n",
    "ax.set_xlim(xmin, xmax)\n",
    "labels=[t.strftime('%d/%m %H:%M') for t in df.columns]\n",
    "plt.xticks(tminutes[:5], labels[:5],rotation=45 )\n",
    "plt.show()\n"
   ]
  },
  {
   "cell_type": "markdown",
   "id": "1b2f2d9c-c0c9-4314-92ee-361165599adf",
   "metadata": {},
   "source": [
    "## PLOTLY"
   ]
  },
  {
   "cell_type": "code",
   "execution_count": 11,
   "id": "ed909584-0a5f-4a0e-b2a5-bfa3df8c0f01",
   "metadata": {},
   "outputs": [
    {
     "data": {
      "application/vnd.plotly.v1+json": {
       "config": {
        "plotlyServerURL": "https://plot.ly"
       },
       "data": [
        {
         "type": "box",
         "x": [
          0,
          0,
          0,
          0,
          0,
          0,
          40,
          40,
          40,
          40,
          40,
          40,
          72,
          72,
          72,
          72,
          72,
          72,
          105,
          105,
          105,
          105,
          105,
          105,
          219,
          219,
          219,
          219,
          219,
          219,
          396,
          396,
          396,
          396,
          396,
          396
         ],
         "y": [
          0.241136,
          0.178329,
          0.104047,
          0.078347,
          0.094278,
          0.061825,
          0.027633,
          0.027275,
          0.023477,
          0.119369,
          0.142136,
          0.104209,
          0.077483,
          0.071338,
          0.074508,
          0.096246,
          0.057512,
          0.046357,
          0.165348,
          0.117918,
          0.104266,
          0.092425,
          0.123408,
          0.039977,
          0.124847,
          0.064927,
          0.0641,
          0.066026,
          0.054721,
          0.011933,
          0.044522,
          0.0071,
          0.000451,
          0.125664,
          0.026865,
          0.026076
         ]
        }
       ],
       "layout": {
        "boxmode": "overlay",
        "height": 500,
        "template": {
         "data": {
          "bar": [
           {
            "error_x": {
             "color": "#2a3f5f"
            },
            "error_y": {
             "color": "#2a3f5f"
            },
            "marker": {
             "line": {
              "color": "#E5ECF6",
              "width": 0.5
             },
             "pattern": {
              "fillmode": "overlay",
              "size": 10,
              "solidity": 0.2
             }
            },
            "type": "bar"
           }
          ],
          "barpolar": [
           {
            "marker": {
             "line": {
              "color": "#E5ECF6",
              "width": 0.5
             },
             "pattern": {
              "fillmode": "overlay",
              "size": 10,
              "solidity": 0.2
             }
            },
            "type": "barpolar"
           }
          ],
          "carpet": [
           {
            "aaxis": {
             "endlinecolor": "#2a3f5f",
             "gridcolor": "white",
             "linecolor": "white",
             "minorgridcolor": "white",
             "startlinecolor": "#2a3f5f"
            },
            "baxis": {
             "endlinecolor": "#2a3f5f",
             "gridcolor": "white",
             "linecolor": "white",
             "minorgridcolor": "white",
             "startlinecolor": "#2a3f5f"
            },
            "type": "carpet"
           }
          ],
          "choropleth": [
           {
            "colorbar": {
             "outlinewidth": 0,
             "ticks": ""
            },
            "type": "choropleth"
           }
          ],
          "contour": [
           {
            "colorbar": {
             "outlinewidth": 0,
             "ticks": ""
            },
            "colorscale": [
             [
              0,
              "#0d0887"
             ],
             [
              0.1111111111111111,
              "#46039f"
             ],
             [
              0.2222222222222222,
              "#7201a8"
             ],
             [
              0.3333333333333333,
              "#9c179e"
             ],
             [
              0.4444444444444444,
              "#bd3786"
             ],
             [
              0.5555555555555556,
              "#d8576b"
             ],
             [
              0.6666666666666666,
              "#ed7953"
             ],
             [
              0.7777777777777778,
              "#fb9f3a"
             ],
             [
              0.8888888888888888,
              "#fdca26"
             ],
             [
              1,
              "#f0f921"
             ]
            ],
            "type": "contour"
           }
          ],
          "contourcarpet": [
           {
            "colorbar": {
             "outlinewidth": 0,
             "ticks": ""
            },
            "type": "contourcarpet"
           }
          ],
          "heatmap": [
           {
            "colorbar": {
             "outlinewidth": 0,
             "ticks": ""
            },
            "colorscale": [
             [
              0,
              "#0d0887"
             ],
             [
              0.1111111111111111,
              "#46039f"
             ],
             [
              0.2222222222222222,
              "#7201a8"
             ],
             [
              0.3333333333333333,
              "#9c179e"
             ],
             [
              0.4444444444444444,
              "#bd3786"
             ],
             [
              0.5555555555555556,
              "#d8576b"
             ],
             [
              0.6666666666666666,
              "#ed7953"
             ],
             [
              0.7777777777777778,
              "#fb9f3a"
             ],
             [
              0.8888888888888888,
              "#fdca26"
             ],
             [
              1,
              "#f0f921"
             ]
            ],
            "type": "heatmap"
           }
          ],
          "heatmapgl": [
           {
            "colorbar": {
             "outlinewidth": 0,
             "ticks": ""
            },
            "colorscale": [
             [
              0,
              "#0d0887"
             ],
             [
              0.1111111111111111,
              "#46039f"
             ],
             [
              0.2222222222222222,
              "#7201a8"
             ],
             [
              0.3333333333333333,
              "#9c179e"
             ],
             [
              0.4444444444444444,
              "#bd3786"
             ],
             [
              0.5555555555555556,
              "#d8576b"
             ],
             [
              0.6666666666666666,
              "#ed7953"
             ],
             [
              0.7777777777777778,
              "#fb9f3a"
             ],
             [
              0.8888888888888888,
              "#fdca26"
             ],
             [
              1,
              "#f0f921"
             ]
            ],
            "type": "heatmapgl"
           }
          ],
          "histogram": [
           {
            "marker": {
             "pattern": {
              "fillmode": "overlay",
              "size": 10,
              "solidity": 0.2
             }
            },
            "type": "histogram"
           }
          ],
          "histogram2d": [
           {
            "colorbar": {
             "outlinewidth": 0,
             "ticks": ""
            },
            "colorscale": [
             [
              0,
              "#0d0887"
             ],
             [
              0.1111111111111111,
              "#46039f"
             ],
             [
              0.2222222222222222,
              "#7201a8"
             ],
             [
              0.3333333333333333,
              "#9c179e"
             ],
             [
              0.4444444444444444,
              "#bd3786"
             ],
             [
              0.5555555555555556,
              "#d8576b"
             ],
             [
              0.6666666666666666,
              "#ed7953"
             ],
             [
              0.7777777777777778,
              "#fb9f3a"
             ],
             [
              0.8888888888888888,
              "#fdca26"
             ],
             [
              1,
              "#f0f921"
             ]
            ],
            "type": "histogram2d"
           }
          ],
          "histogram2dcontour": [
           {
            "colorbar": {
             "outlinewidth": 0,
             "ticks": ""
            },
            "colorscale": [
             [
              0,
              "#0d0887"
             ],
             [
              0.1111111111111111,
              "#46039f"
             ],
             [
              0.2222222222222222,
              "#7201a8"
             ],
             [
              0.3333333333333333,
              "#9c179e"
             ],
             [
              0.4444444444444444,
              "#bd3786"
             ],
             [
              0.5555555555555556,
              "#d8576b"
             ],
             [
              0.6666666666666666,
              "#ed7953"
             ],
             [
              0.7777777777777778,
              "#fb9f3a"
             ],
             [
              0.8888888888888888,
              "#fdca26"
             ],
             [
              1,
              "#f0f921"
             ]
            ],
            "type": "histogram2dcontour"
           }
          ],
          "mesh3d": [
           {
            "colorbar": {
             "outlinewidth": 0,
             "ticks": ""
            },
            "type": "mesh3d"
           }
          ],
          "parcoords": [
           {
            "line": {
             "colorbar": {
              "outlinewidth": 0,
              "ticks": ""
             }
            },
            "type": "parcoords"
           }
          ],
          "pie": [
           {
            "automargin": true,
            "type": "pie"
           }
          ],
          "scatter": [
           {
            "fillpattern": {
             "fillmode": "overlay",
             "size": 10,
             "solidity": 0.2
            },
            "type": "scatter"
           }
          ],
          "scatter3d": [
           {
            "line": {
             "colorbar": {
              "outlinewidth": 0,
              "ticks": ""
             }
            },
            "marker": {
             "colorbar": {
              "outlinewidth": 0,
              "ticks": ""
             }
            },
            "type": "scatter3d"
           }
          ],
          "scattercarpet": [
           {
            "marker": {
             "colorbar": {
              "outlinewidth": 0,
              "ticks": ""
             }
            },
            "type": "scattercarpet"
           }
          ],
          "scattergeo": [
           {
            "marker": {
             "colorbar": {
              "outlinewidth": 0,
              "ticks": ""
             }
            },
            "type": "scattergeo"
           }
          ],
          "scattergl": [
           {
            "marker": {
             "colorbar": {
              "outlinewidth": 0,
              "ticks": ""
             }
            },
            "type": "scattergl"
           }
          ],
          "scattermapbox": [
           {
            "marker": {
             "colorbar": {
              "outlinewidth": 0,
              "ticks": ""
             }
            },
            "type": "scattermapbox"
           }
          ],
          "scatterpolar": [
           {
            "marker": {
             "colorbar": {
              "outlinewidth": 0,
              "ticks": ""
             }
            },
            "type": "scatterpolar"
           }
          ],
          "scatterpolargl": [
           {
            "marker": {
             "colorbar": {
              "outlinewidth": 0,
              "ticks": ""
             }
            },
            "type": "scatterpolargl"
           }
          ],
          "scatterternary": [
           {
            "marker": {
             "colorbar": {
              "outlinewidth": 0,
              "ticks": ""
             }
            },
            "type": "scatterternary"
           }
          ],
          "surface": [
           {
            "colorbar": {
             "outlinewidth": 0,
             "ticks": ""
            },
            "colorscale": [
             [
              0,
              "#0d0887"
             ],
             [
              0.1111111111111111,
              "#46039f"
             ],
             [
              0.2222222222222222,
              "#7201a8"
             ],
             [
              0.3333333333333333,
              "#9c179e"
             ],
             [
              0.4444444444444444,
              "#bd3786"
             ],
             [
              0.5555555555555556,
              "#d8576b"
             ],
             [
              0.6666666666666666,
              "#ed7953"
             ],
             [
              0.7777777777777778,
              "#fb9f3a"
             ],
             [
              0.8888888888888888,
              "#fdca26"
             ],
             [
              1,
              "#f0f921"
             ]
            ],
            "type": "surface"
           }
          ],
          "table": [
           {
            "cells": {
             "fill": {
              "color": "#EBF0F8"
             },
             "line": {
              "color": "white"
             }
            },
            "header": {
             "fill": {
              "color": "#C8D4E3"
             },
             "line": {
              "color": "white"
             }
            },
            "type": "table"
           }
          ]
         },
         "layout": {
          "annotationdefaults": {
           "arrowcolor": "#2a3f5f",
           "arrowhead": 0,
           "arrowwidth": 1
          },
          "autotypenumbers": "strict",
          "coloraxis": {
           "colorbar": {
            "outlinewidth": 0,
            "ticks": ""
           }
          },
          "colorscale": {
           "diverging": [
            [
             0,
             "#8e0152"
            ],
            [
             0.1,
             "#c51b7d"
            ],
            [
             0.2,
             "#de77ae"
            ],
            [
             0.3,
             "#f1b6da"
            ],
            [
             0.4,
             "#fde0ef"
            ],
            [
             0.5,
             "#f7f7f7"
            ],
            [
             0.6,
             "#e6f5d0"
            ],
            [
             0.7,
             "#b8e186"
            ],
            [
             0.8,
             "#7fbc41"
            ],
            [
             0.9,
             "#4d9221"
            ],
            [
             1,
             "#276419"
            ]
           ],
           "sequential": [
            [
             0,
             "#0d0887"
            ],
            [
             0.1111111111111111,
             "#46039f"
            ],
            [
             0.2222222222222222,
             "#7201a8"
            ],
            [
             0.3333333333333333,
             "#9c179e"
            ],
            [
             0.4444444444444444,
             "#bd3786"
            ],
            [
             0.5555555555555556,
             "#d8576b"
            ],
            [
             0.6666666666666666,
             "#ed7953"
            ],
            [
             0.7777777777777778,
             "#fb9f3a"
            ],
            [
             0.8888888888888888,
             "#fdca26"
            ],
            [
             1,
             "#f0f921"
            ]
           ],
           "sequentialminus": [
            [
             0,
             "#0d0887"
            ],
            [
             0.1111111111111111,
             "#46039f"
            ],
            [
             0.2222222222222222,
             "#7201a8"
            ],
            [
             0.3333333333333333,
             "#9c179e"
            ],
            [
             0.4444444444444444,
             "#bd3786"
            ],
            [
             0.5555555555555556,
             "#d8576b"
            ],
            [
             0.6666666666666666,
             "#ed7953"
            ],
            [
             0.7777777777777778,
             "#fb9f3a"
            ],
            [
             0.8888888888888888,
             "#fdca26"
            ],
            [
             1,
             "#f0f921"
            ]
           ]
          },
          "colorway": [
           "#636efa",
           "#EF553B",
           "#00cc96",
           "#ab63fa",
           "#FFA15A",
           "#19d3f3",
           "#FF6692",
           "#B6E880",
           "#FF97FF",
           "#FECB52"
          ],
          "font": {
           "color": "#2a3f5f"
          },
          "geo": {
           "bgcolor": "white",
           "lakecolor": "white",
           "landcolor": "#E5ECF6",
           "showlakes": true,
           "showland": true,
           "subunitcolor": "white"
          },
          "hoverlabel": {
           "align": "left"
          },
          "hovermode": "closest",
          "mapbox": {
           "style": "light"
          },
          "paper_bgcolor": "white",
          "plot_bgcolor": "#E5ECF6",
          "polar": {
           "angularaxis": {
            "gridcolor": "white",
            "linecolor": "white",
            "ticks": ""
           },
           "bgcolor": "#E5ECF6",
           "radialaxis": {
            "gridcolor": "white",
            "linecolor": "white",
            "ticks": ""
           }
          },
          "scene": {
           "xaxis": {
            "backgroundcolor": "#E5ECF6",
            "gridcolor": "white",
            "gridwidth": 2,
            "linecolor": "white",
            "showbackground": true,
            "ticks": "",
            "zerolinecolor": "white"
           },
           "yaxis": {
            "backgroundcolor": "#E5ECF6",
            "gridcolor": "white",
            "gridwidth": 2,
            "linecolor": "white",
            "showbackground": true,
            "ticks": "",
            "zerolinecolor": "white"
           },
           "zaxis": {
            "backgroundcolor": "#E5ECF6",
            "gridcolor": "white",
            "gridwidth": 2,
            "linecolor": "white",
            "showbackground": true,
            "ticks": "",
            "zerolinecolor": "white"
           }
          },
          "shapedefaults": {
           "line": {
            "color": "#2a3f5f"
           }
          },
          "ternary": {
           "aaxis": {
            "gridcolor": "white",
            "linecolor": "white",
            "ticks": ""
           },
           "baxis": {
            "gridcolor": "white",
            "linecolor": "white",
            "ticks": ""
           },
           "bgcolor": "#E5ECF6",
           "caxis": {
            "gridcolor": "white",
            "linecolor": "white",
            "ticks": ""
           }
          },
          "title": {
           "x": 0.05
          },
          "xaxis": {
           "automargin": true,
           "gridcolor": "white",
           "linecolor": "white",
           "ticks": "",
           "title": {
            "standoff": 15
           },
           "zerolinecolor": "white",
           "zerolinewidth": 2
          },
          "yaxis": {
           "automargin": true,
           "gridcolor": "white",
           "linecolor": "white",
           "ticks": "",
           "title": {
            "standoff": 15
           },
           "zerolinecolor": "white",
           "zerolinewidth": 2
          }
         }
        },
        "title": {
         "text": "gs variability",
         "x": 0.5
        },
        "width": 800,
        "xaxis": {
         "autorange": true,
         "range": [
          -16,
          412
         ],
         "tickangle": 45,
         "tickmode": "array",
         "ticktext": [
          "29/03 06:36",
          "29/03 06:36",
          "29/03 06:36",
          "29/03 06:36",
          "29/03 06:36",
          "29/03 06:36",
          "29/03 07:16",
          "29/03 07:16",
          "29/03 07:16",
          "29/03 07:16",
          "29/03 07:16",
          "29/03 07:16",
          "29/03 07:48",
          "29/03 07:48",
          "29/03 07:48",
          "29/03 07:48",
          "29/03 07:48",
          "29/03 07:48",
          "29/03 08:21",
          "29/03 08:21",
          "29/03 08:21",
          "29/03 08:21",
          "29/03 08:21",
          "29/03 08:21",
          "29/03 10:15",
          "29/03 10:15",
          "29/03 10:15",
          "29/03 10:15",
          "29/03 10:15",
          "29/03 10:15",
          "29/03 13:12",
          "29/03 13:12",
          "29/03 13:12",
          "29/03 13:12",
          "29/03 13:12",
          "29/03 13:12",
          "25/05 05:56",
          "25/05 05:56",
          "25/05 05:56",
          "25/05 05:56",
          "25/05 05:56",
          "25/05 05:56",
          "25/05 06:45",
          "25/05 06:45",
          "25/05 06:45",
          "25/05 06:45",
          "25/05 06:45",
          "25/05 06:45",
          "25/05 07:39",
          "25/05 07:39",
          "25/05 07:39",
          "25/05 07:39",
          "25/05 07:39",
          "25/05 07:39",
          "25/05 08:46",
          "25/05 08:46",
          "25/05 08:46",
          "25/05 08:46",
          "25/05 08:46",
          "25/05 08:46",
          "25/05 09:52",
          "25/05 09:52",
          "25/05 09:52",
          "25/05 09:52",
          "25/05 09:52",
          "25/05 09:52",
          "25/05 10:51",
          "25/05 10:51",
          "25/05 10:51",
          "25/05 10:51",
          "25/05 10:51",
          "25/05 10:51",
          "14/06 05:48",
          "14/06 05:48",
          "14/06 05:48",
          "14/06 05:48",
          "14/06 05:48",
          "14/06 05:48",
          "14/06 06:24",
          "14/06 06:24",
          "14/06 06:24",
          "14/06 06:24",
          "14/06 06:24",
          "14/06 06:24",
          "14/06 06:44",
          "14/06 06:44",
          "14/06 06:44",
          "14/06 06:44",
          "14/06 06:44",
          "14/06 06:44",
          "14/06 07:45",
          "14/06 07:45",
          "14/06 07:45",
          "14/06 07:45",
          "14/06 07:45",
          "14/06 07:45",
          "14/06 08:48",
          "14/06 08:48",
          "14/06 08:48",
          "14/06 08:48",
          "14/06 08:48",
          "14/06 08:48",
          "14/06 09:45",
          "14/06 09:45",
          "14/06 09:45",
          "14/06 09:45",
          "14/06 09:45",
          "14/06 09:45",
          "22/06 06:04",
          "22/06 06:04",
          "22/06 06:04",
          "22/06 06:04",
          "22/06 06:04",
          "22/06 06:04",
          "22/06 06:53",
          "22/06 06:53",
          "22/06 06:53",
          "22/06 06:53",
          "22/06 06:53",
          "22/06 06:53",
          "22/06 07:48",
          "22/06 07:48",
          "22/06 07:48",
          "22/06 07:48",
          "22/06 07:48",
          "22/06 07:48",
          "22/06 08:50",
          "22/06 08:50",
          "22/06 08:50",
          "22/06 08:50",
          "22/06 08:50",
          "22/06 08:50",
          "22/06 09:43",
          "22/06 09:43",
          "22/06 09:43",
          "22/06 09:43",
          "22/06 09:43",
          "22/06 09:43",
          "22/06 10:47",
          "22/06 10:47",
          "22/06 10:47",
          "22/06 10:47",
          "22/06 10:47",
          "22/06 10:47",
          "22/06 11:50",
          "22/06 11:50",
          "22/06 11:50",
          "22/06 11:50",
          "22/06 11:50",
          "22/06 11:50",
          "26/06 05:06",
          "26/06 05:06",
          "26/06 05:06",
          "26/06 05:06",
          "26/06 05:06",
          "26/06 05:06",
          "26/06 05:50",
          "26/06 05:50",
          "26/06 05:50",
          "26/06 05:50",
          "26/06 05:50",
          "26/06 05:50",
          "26/06 06:54",
          "26/06 06:54",
          "26/06 06:54",
          "26/06 06:54",
          "26/06 06:54",
          "26/06 06:54",
          "26/06 07:49",
          "26/06 07:49",
          "26/06 07:49",
          "26/06 07:49",
          "26/06 07:49",
          "26/06 07:49",
          "26/06 08:53",
          "26/06 08:53",
          "26/06 08:53",
          "26/06 08:53",
          "26/06 08:53",
          "26/06 08:53",
          "26/06 09:51",
          "26/06 09:51",
          "26/06 09:51",
          "26/06 09:51",
          "26/06 09:51",
          "26/06 09:51",
          "26/06 10:48",
          "26/06 10:48",
          "26/06 10:48",
          "26/06 10:48",
          "26/06 10:48",
          "26/06 10:48",
          "26/06 11:41",
          "26/06 11:41",
          "26/06 11:41",
          "26/06 11:41",
          "26/06 11:41",
          "26/06 11:41"
         ],
         "tickvals": [
          0,
          0,
          0,
          0,
          0,
          0,
          40,
          40,
          40,
          40,
          40,
          40,
          72,
          72,
          72,
          72,
          72,
          72,
          105,
          105,
          105,
          105,
          105,
          105,
          219,
          219,
          219,
          219,
          219,
          219,
          396,
          396,
          396,
          396,
          396,
          396
         ],
         "title": {
          "text": "Date"
         },
         "type": "linear"
        },
        "yaxis": {
         "autorange": true,
         "range": [
          -0.012920388888888893,
          0.2545073888888889
         ],
         "title": {
          "text": "gs"
         },
         "type": "linear"
        }
       }
      },
      "text/html": [
       "<div>                            <div id=\"676a4214-e1ee-4269-8dee-78a339d31e74\" class=\"plotly-graph-div\" style=\"height:500px; width:800px;\"></div>            <script type=\"text/javascript\">                require([\"plotly\"], function(Plotly) {                    window.PLOTLYENV=window.PLOTLYENV || {};                                    if (document.getElementById(\"676a4214-e1ee-4269-8dee-78a339d31e74\")) {                    Plotly.newPlot(                        \"676a4214-e1ee-4269-8dee-78a339d31e74\",                        [{\"x\":[0,0,0,0,0,0,40,40,40,40,40,40,72,72,72,72,72,72,105,105,105,105,105,105,219,219,219,219,219,219,396,396,396,396,396,396],\"y\":[0.241136,0.178329,0.104047,0.078347,0.094278,0.061825,0.027633,0.027275,0.023477,0.119369,0.142136,0.104209,0.077483,0.071338,0.074508,0.096246,0.057512,0.046357,0.165348,0.117918,0.104266,0.092425,0.123408,0.039977,0.124847,0.064927,0.0641,0.066026,0.054721,0.011933,0.044522,0.0071,0.000451,0.125664,0.026865,0.026076],\"type\":\"box\"}],                        {\"template\":{\"data\":{\"histogram2dcontour\":[{\"type\":\"histogram2dcontour\",\"colorbar\":{\"outlinewidth\":0,\"ticks\":\"\"},\"colorscale\":[[0.0,\"#0d0887\"],[0.1111111111111111,\"#46039f\"],[0.2222222222222222,\"#7201a8\"],[0.3333333333333333,\"#9c179e\"],[0.4444444444444444,\"#bd3786\"],[0.5555555555555556,\"#d8576b\"],[0.6666666666666666,\"#ed7953\"],[0.7777777777777778,\"#fb9f3a\"],[0.8888888888888888,\"#fdca26\"],[1.0,\"#f0f921\"]]}],\"choropleth\":[{\"type\":\"choropleth\",\"colorbar\":{\"outlinewidth\":0,\"ticks\":\"\"}}],\"histogram2d\":[{\"type\":\"histogram2d\",\"colorbar\":{\"outlinewidth\":0,\"ticks\":\"\"},\"colorscale\":[[0.0,\"#0d0887\"],[0.1111111111111111,\"#46039f\"],[0.2222222222222222,\"#7201a8\"],[0.3333333333333333,\"#9c179e\"],[0.4444444444444444,\"#bd3786\"],[0.5555555555555556,\"#d8576b\"],[0.6666666666666666,\"#ed7953\"],[0.7777777777777778,\"#fb9f3a\"],[0.8888888888888888,\"#fdca26\"],[1.0,\"#f0f921\"]]}],\"heatmap\":[{\"type\":\"heatmap\",\"colorbar\":{\"outlinewidth\":0,\"ticks\":\"\"},\"colorscale\":[[0.0,\"#0d0887\"],[0.1111111111111111,\"#46039f\"],[0.2222222222222222,\"#7201a8\"],[0.3333333333333333,\"#9c179e\"],[0.4444444444444444,\"#bd3786\"],[0.5555555555555556,\"#d8576b\"],[0.6666666666666666,\"#ed7953\"],[0.7777777777777778,\"#fb9f3a\"],[0.8888888888888888,\"#fdca26\"],[1.0,\"#f0f921\"]]}],\"heatmapgl\":[{\"type\":\"heatmapgl\",\"colorbar\":{\"outlinewidth\":0,\"ticks\":\"\"},\"colorscale\":[[0.0,\"#0d0887\"],[0.1111111111111111,\"#46039f\"],[0.2222222222222222,\"#7201a8\"],[0.3333333333333333,\"#9c179e\"],[0.4444444444444444,\"#bd3786\"],[0.5555555555555556,\"#d8576b\"],[0.6666666666666666,\"#ed7953\"],[0.7777777777777778,\"#fb9f3a\"],[0.8888888888888888,\"#fdca26\"],[1.0,\"#f0f921\"]]}],\"contourcarpet\":[{\"type\":\"contourcarpet\",\"colorbar\":{\"outlinewidth\":0,\"ticks\":\"\"}}],\"contour\":[{\"type\":\"contour\",\"colorbar\":{\"outlinewidth\":0,\"ticks\":\"\"},\"colorscale\":[[0.0,\"#0d0887\"],[0.1111111111111111,\"#46039f\"],[0.2222222222222222,\"#7201a8\"],[0.3333333333333333,\"#9c179e\"],[0.4444444444444444,\"#bd3786\"],[0.5555555555555556,\"#d8576b\"],[0.6666666666666666,\"#ed7953\"],[0.7777777777777778,\"#fb9f3a\"],[0.8888888888888888,\"#fdca26\"],[1.0,\"#f0f921\"]]}],\"surface\":[{\"type\":\"surface\",\"colorbar\":{\"outlinewidth\":0,\"ticks\":\"\"},\"colorscale\":[[0.0,\"#0d0887\"],[0.1111111111111111,\"#46039f\"],[0.2222222222222222,\"#7201a8\"],[0.3333333333333333,\"#9c179e\"],[0.4444444444444444,\"#bd3786\"],[0.5555555555555556,\"#d8576b\"],[0.6666666666666666,\"#ed7953\"],[0.7777777777777778,\"#fb9f3a\"],[0.8888888888888888,\"#fdca26\"],[1.0,\"#f0f921\"]]}],\"mesh3d\":[{\"type\":\"mesh3d\",\"colorbar\":{\"outlinewidth\":0,\"ticks\":\"\"}}],\"scatter\":[{\"fillpattern\":{\"fillmode\":\"overlay\",\"size\":10,\"solidity\":0.2},\"type\":\"scatter\"}],\"parcoords\":[{\"type\":\"parcoords\",\"line\":{\"colorbar\":{\"outlinewidth\":0,\"ticks\":\"\"}}}],\"scatterpolargl\":[{\"type\":\"scatterpolargl\",\"marker\":{\"colorbar\":{\"outlinewidth\":0,\"ticks\":\"\"}}}],\"bar\":[{\"error_x\":{\"color\":\"#2a3f5f\"},\"error_y\":{\"color\":\"#2a3f5f\"},\"marker\":{\"line\":{\"color\":\"#E5ECF6\",\"width\":0.5},\"pattern\":{\"fillmode\":\"overlay\",\"size\":10,\"solidity\":0.2}},\"type\":\"bar\"}],\"scattergeo\":[{\"type\":\"scattergeo\",\"marker\":{\"colorbar\":{\"outlinewidth\":0,\"ticks\":\"\"}}}],\"scatterpolar\":[{\"type\":\"scatterpolar\",\"marker\":{\"colorbar\":{\"outlinewidth\":0,\"ticks\":\"\"}}}],\"histogram\":[{\"marker\":{\"pattern\":{\"fillmode\":\"overlay\",\"size\":10,\"solidity\":0.2}},\"type\":\"histogram\"}],\"scattergl\":[{\"type\":\"scattergl\",\"marker\":{\"colorbar\":{\"outlinewidth\":0,\"ticks\":\"\"}}}],\"scatter3d\":[{\"type\":\"scatter3d\",\"line\":{\"colorbar\":{\"outlinewidth\":0,\"ticks\":\"\"}},\"marker\":{\"colorbar\":{\"outlinewidth\":0,\"ticks\":\"\"}}}],\"scattermapbox\":[{\"type\":\"scattermapbox\",\"marker\":{\"colorbar\":{\"outlinewidth\":0,\"ticks\":\"\"}}}],\"scatterternary\":[{\"type\":\"scatterternary\",\"marker\":{\"colorbar\":{\"outlinewidth\":0,\"ticks\":\"\"}}}],\"scattercarpet\":[{\"type\":\"scattercarpet\",\"marker\":{\"colorbar\":{\"outlinewidth\":0,\"ticks\":\"\"}}}],\"carpet\":[{\"aaxis\":{\"endlinecolor\":\"#2a3f5f\",\"gridcolor\":\"white\",\"linecolor\":\"white\",\"minorgridcolor\":\"white\",\"startlinecolor\":\"#2a3f5f\"},\"baxis\":{\"endlinecolor\":\"#2a3f5f\",\"gridcolor\":\"white\",\"linecolor\":\"white\",\"minorgridcolor\":\"white\",\"startlinecolor\":\"#2a3f5f\"},\"type\":\"carpet\"}],\"table\":[{\"cells\":{\"fill\":{\"color\":\"#EBF0F8\"},\"line\":{\"color\":\"white\"}},\"header\":{\"fill\":{\"color\":\"#C8D4E3\"},\"line\":{\"color\":\"white\"}},\"type\":\"table\"}],\"barpolar\":[{\"marker\":{\"line\":{\"color\":\"#E5ECF6\",\"width\":0.5},\"pattern\":{\"fillmode\":\"overlay\",\"size\":10,\"solidity\":0.2}},\"type\":\"barpolar\"}],\"pie\":[{\"automargin\":true,\"type\":\"pie\"}]},\"layout\":{\"autotypenumbers\":\"strict\",\"colorway\":[\"#636efa\",\"#EF553B\",\"#00cc96\",\"#ab63fa\",\"#FFA15A\",\"#19d3f3\",\"#FF6692\",\"#B6E880\",\"#FF97FF\",\"#FECB52\"],\"font\":{\"color\":\"#2a3f5f\"},\"hovermode\":\"closest\",\"hoverlabel\":{\"align\":\"left\"},\"paper_bgcolor\":\"white\",\"plot_bgcolor\":\"#E5ECF6\",\"polar\":{\"bgcolor\":\"#E5ECF6\",\"angularaxis\":{\"gridcolor\":\"white\",\"linecolor\":\"white\",\"ticks\":\"\"},\"radialaxis\":{\"gridcolor\":\"white\",\"linecolor\":\"white\",\"ticks\":\"\"}},\"ternary\":{\"bgcolor\":\"#E5ECF6\",\"aaxis\":{\"gridcolor\":\"white\",\"linecolor\":\"white\",\"ticks\":\"\"},\"baxis\":{\"gridcolor\":\"white\",\"linecolor\":\"white\",\"ticks\":\"\"},\"caxis\":{\"gridcolor\":\"white\",\"linecolor\":\"white\",\"ticks\":\"\"}},\"coloraxis\":{\"colorbar\":{\"outlinewidth\":0,\"ticks\":\"\"}},\"colorscale\":{\"sequential\":[[0.0,\"#0d0887\"],[0.1111111111111111,\"#46039f\"],[0.2222222222222222,\"#7201a8\"],[0.3333333333333333,\"#9c179e\"],[0.4444444444444444,\"#bd3786\"],[0.5555555555555556,\"#d8576b\"],[0.6666666666666666,\"#ed7953\"],[0.7777777777777778,\"#fb9f3a\"],[0.8888888888888888,\"#fdca26\"],[1.0,\"#f0f921\"]],\"sequentialminus\":[[0.0,\"#0d0887\"],[0.1111111111111111,\"#46039f\"],[0.2222222222222222,\"#7201a8\"],[0.3333333333333333,\"#9c179e\"],[0.4444444444444444,\"#bd3786\"],[0.5555555555555556,\"#d8576b\"],[0.6666666666666666,\"#ed7953\"],[0.7777777777777778,\"#fb9f3a\"],[0.8888888888888888,\"#fdca26\"],[1.0,\"#f0f921\"]],\"diverging\":[[0,\"#8e0152\"],[0.1,\"#c51b7d\"],[0.2,\"#de77ae\"],[0.3,\"#f1b6da\"],[0.4,\"#fde0ef\"],[0.5,\"#f7f7f7\"],[0.6,\"#e6f5d0\"],[0.7,\"#b8e186\"],[0.8,\"#7fbc41\"],[0.9,\"#4d9221\"],[1,\"#276419\"]]},\"xaxis\":{\"gridcolor\":\"white\",\"linecolor\":\"white\",\"ticks\":\"\",\"title\":{\"standoff\":15},\"zerolinecolor\":\"white\",\"automargin\":true,\"zerolinewidth\":2},\"yaxis\":{\"gridcolor\":\"white\",\"linecolor\":\"white\",\"ticks\":\"\",\"title\":{\"standoff\":15},\"zerolinecolor\":\"white\",\"automargin\":true,\"zerolinewidth\":2},\"scene\":{\"xaxis\":{\"backgroundcolor\":\"#E5ECF6\",\"gridcolor\":\"white\",\"linecolor\":\"white\",\"showbackground\":true,\"ticks\":\"\",\"zerolinecolor\":\"white\",\"gridwidth\":2},\"yaxis\":{\"backgroundcolor\":\"#E5ECF6\",\"gridcolor\":\"white\",\"linecolor\":\"white\",\"showbackground\":true,\"ticks\":\"\",\"zerolinecolor\":\"white\",\"gridwidth\":2},\"zaxis\":{\"backgroundcolor\":\"#E5ECF6\",\"gridcolor\":\"white\",\"linecolor\":\"white\",\"showbackground\":true,\"ticks\":\"\",\"zerolinecolor\":\"white\",\"gridwidth\":2}},\"shapedefaults\":{\"line\":{\"color\":\"#2a3f5f\"}},\"annotationdefaults\":{\"arrowcolor\":\"#2a3f5f\",\"arrowhead\":0,\"arrowwidth\":1},\"geo\":{\"bgcolor\":\"white\",\"landcolor\":\"#E5ECF6\",\"subunitcolor\":\"white\",\"showland\":true,\"showlakes\":true,\"lakecolor\":\"white\"},\"title\":{\"x\":0.05},\"mapbox\":{\"style\":\"light\"}}},\"boxmode\":\"overlay\",\"width\":800,\"height\":500,\"title\":{\"text\":\"gs variability\",\"x\":0.5},\"xaxis\":{\"title\":{\"text\":\"Date\"},\"tickmode\":\"array\",\"tickvals\":[0,0,0,0,0,0,40,40,40,40,40,40,72,72,72,72,72,72,105,105,105,105,105,105,219,219,219,219,219,219,396,396,396,396,396,396],\"ticktext\":[\"29/03 06:36\",\"29/03 06:36\",\"29/03 06:36\",\"29/03 06:36\",\"29/03 06:36\",\"29/03 06:36\",\"29/03 07:16\",\"29/03 07:16\",\"29/03 07:16\",\"29/03 07:16\",\"29/03 07:16\",\"29/03 07:16\",\"29/03 07:48\",\"29/03 07:48\",\"29/03 07:48\",\"29/03 07:48\",\"29/03 07:48\",\"29/03 07:48\",\"29/03 08:21\",\"29/03 08:21\",\"29/03 08:21\",\"29/03 08:21\",\"29/03 08:21\",\"29/03 08:21\",\"29/03 10:15\",\"29/03 10:15\",\"29/03 10:15\",\"29/03 10:15\",\"29/03 10:15\",\"29/03 10:15\",\"29/03 13:12\",\"29/03 13:12\",\"29/03 13:12\",\"29/03 13:12\",\"29/03 13:12\",\"29/03 13:12\",\"25/05 05:56\",\"25/05 05:56\",\"25/05 05:56\",\"25/05 05:56\",\"25/05 05:56\",\"25/05 05:56\",\"25/05 06:45\",\"25/05 06:45\",\"25/05 06:45\",\"25/05 06:45\",\"25/05 06:45\",\"25/05 06:45\",\"25/05 07:39\",\"25/05 07:39\",\"25/05 07:39\",\"25/05 07:39\",\"25/05 07:39\",\"25/05 07:39\",\"25/05 08:46\",\"25/05 08:46\",\"25/05 08:46\",\"25/05 08:46\",\"25/05 08:46\",\"25/05 08:46\",\"25/05 09:52\",\"25/05 09:52\",\"25/05 09:52\",\"25/05 09:52\",\"25/05 09:52\",\"25/05 09:52\",\"25/05 10:51\",\"25/05 10:51\",\"25/05 10:51\",\"25/05 10:51\",\"25/05 10:51\",\"25/05 10:51\",\"14/06 05:48\",\"14/06 05:48\",\"14/06 05:48\",\"14/06 05:48\",\"14/06 05:48\",\"14/06 05:48\",\"14/06 06:24\",\"14/06 06:24\",\"14/06 06:24\",\"14/06 06:24\",\"14/06 06:24\",\"14/06 06:24\",\"14/06 06:44\",\"14/06 06:44\",\"14/06 06:44\",\"14/06 06:44\",\"14/06 06:44\",\"14/06 06:44\",\"14/06 07:45\",\"14/06 07:45\",\"14/06 07:45\",\"14/06 07:45\",\"14/06 07:45\",\"14/06 07:45\",\"14/06 08:48\",\"14/06 08:48\",\"14/06 08:48\",\"14/06 08:48\",\"14/06 08:48\",\"14/06 08:48\",\"14/06 09:45\",\"14/06 09:45\",\"14/06 09:45\",\"14/06 09:45\",\"14/06 09:45\",\"14/06 09:45\",\"22/06 06:04\",\"22/06 06:04\",\"22/06 06:04\",\"22/06 06:04\",\"22/06 06:04\",\"22/06 06:04\",\"22/06 06:53\",\"22/06 06:53\",\"22/06 06:53\",\"22/06 06:53\",\"22/06 06:53\",\"22/06 06:53\",\"22/06 07:48\",\"22/06 07:48\",\"22/06 07:48\",\"22/06 07:48\",\"22/06 07:48\",\"22/06 07:48\",\"22/06 08:50\",\"22/06 08:50\",\"22/06 08:50\",\"22/06 08:50\",\"22/06 08:50\",\"22/06 08:50\",\"22/06 09:43\",\"22/06 09:43\",\"22/06 09:43\",\"22/06 09:43\",\"22/06 09:43\",\"22/06 09:43\",\"22/06 10:47\",\"22/06 10:47\",\"22/06 10:47\",\"22/06 10:47\",\"22/06 10:47\",\"22/06 10:47\",\"22/06 11:50\",\"22/06 11:50\",\"22/06 11:50\",\"22/06 11:50\",\"22/06 11:50\",\"22/06 11:50\",\"26/06 05:06\",\"26/06 05:06\",\"26/06 05:06\",\"26/06 05:06\",\"26/06 05:06\",\"26/06 05:06\",\"26/06 05:50\",\"26/06 05:50\",\"26/06 05:50\",\"26/06 05:50\",\"26/06 05:50\",\"26/06 05:50\",\"26/06 06:54\",\"26/06 06:54\",\"26/06 06:54\",\"26/06 06:54\",\"26/06 06:54\",\"26/06 06:54\",\"26/06 07:49\",\"26/06 07:49\",\"26/06 07:49\",\"26/06 07:49\",\"26/06 07:49\",\"26/06 07:49\",\"26/06 08:53\",\"26/06 08:53\",\"26/06 08:53\",\"26/06 08:53\",\"26/06 08:53\",\"26/06 08:53\",\"26/06 09:51\",\"26/06 09:51\",\"26/06 09:51\",\"26/06 09:51\",\"26/06 09:51\",\"26/06 09:51\",\"26/06 10:48\",\"26/06 10:48\",\"26/06 10:48\",\"26/06 10:48\",\"26/06 10:48\",\"26/06 10:48\",\"26/06 11:41\",\"26/06 11:41\",\"26/06 11:41\",\"26/06 11:41\",\"26/06 11:41\",\"26/06 11:41\"],\"tickangle\":45},\"yaxis\":{\"title\":{\"text\":\"gs\"}}},                        {\"responsive\": true}                    ).then(function(){\n",
       "                            \n",
       "var gd = document.getElementById('676a4214-e1ee-4269-8dee-78a339d31e74');\n",
       "var x = new MutationObserver(function (mutations, observer) {{\n",
       "        var display = window.getComputedStyle(gd).display;\n",
       "        if (!display || display === 'none') {{\n",
       "            console.log([gd, 'removed!']);\n",
       "            Plotly.purge(gd);\n",
       "            observer.disconnect();\n",
       "        }}\n",
       "}});\n",
       "\n",
       "// Listen for the removal of the full notebook cells\n",
       "var notebookContainer = gd.closest('#notebook-container');\n",
       "if (notebookContainer) {{\n",
       "    x.observe(notebookContainer, {childList: true});\n",
       "}}\n",
       "\n",
       "// Listen for the clearing of the current output cell\n",
       "var outputEl = gd.closest('.output');\n",
       "if (outputEl) {{\n",
       "    x.observe(outputEl, {childList: true});\n",
       "}}\n",
       "\n",
       "                        })                };                });            </script>        </div>"
      ]
     },
     "metadata": {},
     "output_type": "display_data"
    }
   ],
   "source": [
    "import plotly.graph_objects as go\n",
    "import pandas as pd\n",
    "import sf2gs_app.dfg2db as dfg\n",
    "#Read gs from DB and add round column to identify each round of repetitions\n",
    "df=dfg.roundbox2023(DBTABLE,station=1,tree=1)\n",
    "df[\"roundtime\"]=[tminutes[r] for r in df[\"round\"]]\n",
    "\n",
    "#Filtering by day:\n",
    "\n",
    "df['date']=df['timestamp'].dt.date\n",
    "days=sorted(list(set(df['date']))) #Days of measurement:\n",
    "target_date=days[0]\n",
    "dfp=df.query('date == @target_date')\n",
    "\n",
    "rounds = df.groupby('round').agg({'timestamp': 'mean', 'gsw': 'mean'}).reset_index()\n",
    "timestamps = pd.to_datetime(rounds[\"timestamp\"])\n",
    "df[\"rounddate\"]=[rounds[\"timestamp\"][r] for r in df[\"round\"]]\n",
    "df[\"labels\"]=[t.strftime('%d/%m %H:%M') for t in df[\"rounddate\"]]\n",
    "\n",
    "x_label = 'roundtime'\n",
    "y_label = 'gsw'\n",
    "dfp=df.iloc[:36,:]\n",
    "fig = go.Figure(data=go.Box(x=dfp[x_label], y=dfp[y_label]))\n",
    "fig.update_layout(boxmode='overlay', width=800, height=500)\n",
    "fig.update_layout(title=\"gs variability\",title_x=0.5)\n",
    "labels=sorted(labels[:6]*6)\n",
    "fig.update_xaxes(\n",
    "    tickmode='array',\n",
    "    tickvals=dfp[x_label],\n",
    "    ticktext=df[\"labels\"],\n",
    "    tickangle=45,\n",
    "    title_text=\"Date\"\n",
    ")\n",
    "fig.update_yaxes(title_text=\"gs\")\n",
    "fig.show()"
   ]
  },
  {
   "cell_type": "code",
   "execution_count": null,
   "id": "012e828d-74ef-4e35-8bd9-b8d7c17ae6d6",
   "metadata": {},
   "outputs": [],
   "source": []
  }
 ],
 "metadata": {
  "kernelspec": {
   "display_name": "Django Shell-Plus",
   "language": "python",
   "name": "django_extensions"
  },
  "language_info": {
   "codemirror_mode": {
    "name": "ipython",
    "version": 3
   },
   "file_extension": ".py",
   "mimetype": "text/x-python",
   "name": "python",
   "nbconvert_exporter": "python",
   "pygments_lexer": "ipython3",
   "version": "3.11.4"
  }
 },
 "nbformat": 4,
 "nbformat_minor": 5
}
