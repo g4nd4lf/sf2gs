{
 "cells": [
  {
   "cell_type": "markdown",
   "id": "6effecf3-75e8-4b89-b84a-8d10443f8423",
   "metadata": {},
   "source": [
    "# Creación de boxplots con matplotlib y plotly"
   ]
  },
  {
   "cell_type": "markdown",
   "id": "59b0f8a5-bca6-4ba1-9db3-bd2d53897dee",
   "metadata": {},
   "source": [
    "## MATPLOTLIB"
   ]
  },
  {
   "cell_type": "code",
   "execution_count": 3,
   "id": "46ab0aef-b63e-4718-8885-fe37474a7cdd",
   "metadata": {},
   "outputs": [],
   "source": [
    "import pandas as pd\n",
    "#from myfuncs import db2df\n",
    "import matplotlib.pyplot as plt\n",
    "import numpy as np\n",
    "from fun_calib23 import gs_days,db2df,rounds2023,obtiene_tzyvpd,calculaJs_VPD\n",
    "from fun_calib23 import interpolar_dia,regresion,roundbox2023,df2box"
   ]
  },
  {
   "cell_type": "code",
   "execution_count": 4,
   "id": "46bc6659-ebb4-4ef2-94a7-4355582f227d",
   "metadata": {},
   "outputs": [],
   "source": [
    "\n",
    "DBTABLE='gs_irriwell2023'\n",
    "#df=db2df(DBTABLE) \n",
    "#station=1\n",
    "#tree=1\n",
    "df=roundbox2023(DBTABLE,station=1,tree=1)\n",
    "\n",
    "rounds = df.groupby('round').agg({'timestamp': 'mean', 'gsw': 'mean'}).reset_index()\n",
    "\n",
    "rounds.head()\n",
    "timestamps = pd.to_datetime(rounds[\"timestamp\"])\n",
    "tminutes = (timestamps - pd.Timestamp('1970-01-01')) // pd.Timedelta('1min')\n",
    "tminutes = tminutes.astype(int)\n",
    "\n",
    "tminutes=tminutes-tminutes[0]\n",
    "#print(df)\n",
    "df=df2box(df,\"gsw\",\"round\") #Esto me genera una columna por cada ronda, necesario para el boxplot\n",
    "#print(df)\n",
    "df.columns=timestamps"
   ]
  },
  {
   "cell_type": "code",
   "execution_count": 5,
   "id": "c7c2eee8-b47e-48a7-bb56-e94e8a1f93f6",
   "metadata": {},
   "outputs": [
    {
     "data": {
      "image/png": "[encoded data removed]",
      "text/plain": [
       "<Figure size 1000x700 with 1 Axes>"
      ]
     },
     "metadata": {},
     "output_type": "display_data"
    }
   ],
   "source": [
    "fig, ax = plt.subplots( figsize=(10,7) )\n",
    "# Creating plot\n",
    "df1=df.iloc[:,:5]\n",
    "ax.boxplot( df1, vert=True, positions=tminutes[:5] )\n",
    "xmin=tminutes[0]-100\n",
    "xmax=tminutes[4]+100\n",
    "ax.set_xlim(xmin, xmax)\n",
    "labels=[t.strftime('%d/%m %H:%M') for t in df.columns]\n",
    "plt.xticks(tminutes[:5], labels[:5],rotation=45 )\n",
    "plt.show()\n"
   ]
  },
  {
   "cell_type": "markdown",
   "id": "1b2f2d9c-c0c9-4314-92ee-361165599adf",
   "metadata": {},
   "source": [
    "## PLOTLY"
   ]
  },
  {
   "cell_type": "code",
   "execution_count": 40,
   "id": "e9d4d7e1-8bb2-4bd3-8550-0fe440976bd1",
   "metadata": {},
   "outputs": [],
   "source": [
    "import plotly.graph_objects as go\n",
    "import pandas as pd\n",
    "import sf2gs_app.dfg2db as dfg\n",
    "from datetime import datetime\n",
    "\n",
    "#Read gs from DB and add round column to identify each round of repetitions\n",
    "DBTABLE='gs_irriwell2023'\n",
    "df=dfg.roundbox2023(DBTABLE,station=1,tree=1)\n",
    "rounds = df.groupby('round').agg({'timestamp': 'mean', 'gsw': 'mean'}).reset_index()\n",
    "\n",
    "rounds.head()\n",
    "timestamps = pd.to_datetime(rounds[\"timestamp\"])\n",
    "tminutes = (timestamps - pd.Timestamp('1970-01-01')) // pd.Timedelta('1min')\n",
    "tminutes = tminutes.astype(int)\n",
    "\n",
    "tminutes=tminutes-tminutes[0]\n",
    "df[\"roundtime\"]=[tminutes[r] for r in df[\"round\"]]\n",
    "\n",
    "#Filtering by day:\n",
    "df['date']=df['timestamp'].dt.date\n",
    "days=sorted(list(set(df['date']))) #Days of measurement:\n",
    "target_date=days[0]\n",
    "received_date=\"01/08/2023\"\n",
    "target_date = datetime.strptime(received_date, '%d/%m/%Y').date()\n",
    "dfp = df[df['date'] == target_date]\n",
    "\n",
    "#dfp=df.query('date == @target_date')\n",
    "\n",
    "rounds = df.groupby('round').agg({'timestamp': 'mean', 'gsw': 'mean'}).reset_index()\n",
    "timestamps = pd.to_datetime(rounds[\"timestamp\"])"
   ]
  },
  {
   "cell_type": "code",
   "execution_count": 41,
   "id": "ab958d1f-0333-4efa-a903-154cc22e3aba",
   "metadata": {},
   "outputs": [
    {
     "data": {
      "text/html": [
       "<div>\n",
       "<style scoped>\n",
       "    .dataframe tbody tr th:only-of-type {\n",
       "        vertical-align: middle;\n",
       "    }\n",
       "\n",
       "    .dataframe tbody tr th {\n",
       "        vertical-align: top;\n",
       "    }\n",
       "\n",
       "    .dataframe thead th {\n",
       "        text-align: right;\n",
       "    }\n",
       "</style>\n",
       "<table border=\"1\" class=\"dataframe\">\n",
       "  <thead>\n",
       "    <tr style=\"text-align: right;\">\n",
       "      <th></th>\n",
       "      <th>timestamp</th>\n",
       "      <th>gsw</th>\n",
       "      <th>date_time</th>\n",
       "      <th>timediff</th>\n",
       "      <th>round</th>\n",
       "      <th>roundtime</th>\n",
       "      <th>date</th>\n",
       "    </tr>\n",
       "  </thead>\n",
       "  <tbody>\n",
       "    <tr>\n",
       "      <th>4986</th>\n",
       "      <td>2023-08-01 06:38:44</td>\n",
       "      <td>0.042618</td>\n",
       "      <td>2023-08-01 06:38:44</td>\n",
       "      <td>6 days 19:09:33</td>\n",
       "      <td>52</td>\n",
       "      <td>180003</td>\n",
       "      <td>2023-08-01</td>\n",
       "    </tr>\n",
       "    <tr>\n",
       "      <th>4987</th>\n",
       "      <td>2023-08-01 06:38:50</td>\n",
       "      <td>0.106376</td>\n",
       "      <td>2023-08-01 06:38:50</td>\n",
       "      <td>0 days 00:00:06</td>\n",
       "      <td>52</td>\n",
       "      <td>180003</td>\n",
       "      <td>2023-08-01</td>\n",
       "    </tr>\n",
       "    <tr>\n",
       "      <th>4988</th>\n",
       "      <td>2023-08-01 06:38:57</td>\n",
       "      <td>0.134966</td>\n",
       "      <td>2023-08-01 06:38:57</td>\n",
       "      <td>0 days 00:00:07</td>\n",
       "      <td>52</td>\n",
       "      <td>180003</td>\n",
       "      <td>2023-08-01</td>\n",
       "    </tr>\n",
       "    <tr>\n",
       "      <th>4989</th>\n",
       "      <td>2023-08-01 06:39:11</td>\n",
       "      <td>0.107583</td>\n",
       "      <td>2023-08-01 06:39:11</td>\n",
       "      <td>0 days 00:00:14</td>\n",
       "      <td>52</td>\n",
       "      <td>180003</td>\n",
       "      <td>2023-08-01</td>\n",
       "    </tr>\n",
       "    <tr>\n",
       "      <th>4990</th>\n",
       "      <td>2023-08-01 06:39:19</td>\n",
       "      <td>0.123437</td>\n",
       "      <td>2023-08-01 06:39:19</td>\n",
       "      <td>0 days 00:00:08</td>\n",
       "      <td>52</td>\n",
       "      <td>180003</td>\n",
       "      <td>2023-08-01</td>\n",
       "    </tr>\n",
       "    <tr>\n",
       "      <th>4991</th>\n",
       "      <td>2023-08-01 06:39:25</td>\n",
       "      <td>0.133093</td>\n",
       "      <td>2023-08-01 06:39:25</td>\n",
       "      <td>0 days 00:00:06</td>\n",
       "      <td>52</td>\n",
       "      <td>180003</td>\n",
       "      <td>2023-08-01</td>\n",
       "    </tr>\n",
       "    <tr>\n",
       "      <th>5082</th>\n",
       "      <td>2023-08-01 09:04:57</td>\n",
       "      <td>0.081457</td>\n",
       "      <td>2023-08-01 09:04:57</td>\n",
       "      <td>0 days 02:25:32</td>\n",
       "      <td>53</td>\n",
       "      <td>180149</td>\n",
       "      <td>2023-08-01</td>\n",
       "    </tr>\n",
       "    <tr>\n",
       "      <th>5083</th>\n",
       "      <td>2023-08-01 09:05:03</td>\n",
       "      <td>0.019944</td>\n",
       "      <td>2023-08-01 09:05:03</td>\n",
       "      <td>0 days 00:00:06</td>\n",
       "      <td>53</td>\n",
       "      <td>180149</td>\n",
       "      <td>2023-08-01</td>\n",
       "    </tr>\n",
       "    <tr>\n",
       "      <th>5084</th>\n",
       "      <td>2023-08-01 09:05:13</td>\n",
       "      <td>0.018354</td>\n",
       "      <td>2023-08-01 09:05:13</td>\n",
       "      <td>0 days 00:00:10</td>\n",
       "      <td>53</td>\n",
       "      <td>180149</td>\n",
       "      <td>2023-08-01</td>\n",
       "    </tr>\n",
       "    <tr>\n",
       "      <th>5085</th>\n",
       "      <td>2023-08-01 09:05:24</td>\n",
       "      <td>0.056705</td>\n",
       "      <td>2023-08-01 09:05:24</td>\n",
       "      <td>0 days 00:00:11</td>\n",
       "      <td>53</td>\n",
       "      <td>180149</td>\n",
       "      <td>2023-08-01</td>\n",
       "    </tr>\n",
       "    <tr>\n",
       "      <th>5086</th>\n",
       "      <td>2023-08-01 09:05:31</td>\n",
       "      <td>0.045809</td>\n",
       "      <td>2023-08-01 09:05:31</td>\n",
       "      <td>0 days 00:00:07</td>\n",
       "      <td>53</td>\n",
       "      <td>180149</td>\n",
       "      <td>2023-08-01</td>\n",
       "    </tr>\n",
       "    <tr>\n",
       "      <th>5087</th>\n",
       "      <td>2023-08-01 09:05:37</td>\n",
       "      <td>0.052743</td>\n",
       "      <td>2023-08-01 09:05:37</td>\n",
       "      <td>0 days 00:00:06</td>\n",
       "      <td>53</td>\n",
       "      <td>180149</td>\n",
       "      <td>2023-08-01</td>\n",
       "    </tr>\n",
       "  </tbody>\n",
       "</table>\n",
       "</div>"
      ],
      "text/plain": [
       "               timestamp       gsw           date_time        timediff  round  \\\n",
       "4986 2023-08-01 06:38:44  0.042618 2023-08-01 06:38:44 6 days 19:09:33     52   \n",
       "4987 2023-08-01 06:38:50  0.106376 2023-08-01 06:38:50 0 days 00:00:06     52   \n",
       "4988 2023-08-01 06:38:57  0.134966 2023-08-01 06:38:57 0 days 00:00:07     52   \n",
       "4989 2023-08-01 06:39:11  0.107583 2023-08-01 06:39:11 0 days 00:00:14     52   \n",
       "4990 2023-08-01 06:39:19  0.123437 2023-08-01 06:39:19 0 days 00:00:08     52   \n",
       "4991 2023-08-01 06:39:25  0.133093 2023-08-01 06:39:25 0 days 00:00:06     52   \n",
       "5082 2023-08-01 09:04:57  0.081457 2023-08-01 09:04:57 0 days 02:25:32     53   \n",
       "5083 2023-08-01 09:05:03  0.019944 2023-08-01 09:05:03 0 days 00:00:06     53   \n",
       "5084 2023-08-01 09:05:13  0.018354 2023-08-01 09:05:13 0 days 00:00:10     53   \n",
       "5085 2023-08-01 09:05:24  0.056705 2023-08-01 09:05:24 0 days 00:00:11     53   \n",
       "5086 2023-08-01 09:05:31  0.045809 2023-08-01 09:05:31 0 days 00:00:07     53   \n",
       "5087 2023-08-01 09:05:37  0.052743 2023-08-01 09:05:37 0 days 00:00:06     53   \n",
       "\n",
       "      roundtime        date  \n",
       "4986     180003  2023-08-01  \n",
       "4987     180003  2023-08-01  \n",
       "4988     180003  2023-08-01  \n",
       "4989     180003  2023-08-01  \n",
       "4990     180003  2023-08-01  \n",
       "4991     180003  2023-08-01  \n",
       "5082     180149  2023-08-01  \n",
       "5083     180149  2023-08-01  \n",
       "5084     180149  2023-08-01  \n",
       "5085     180149  2023-08-01  \n",
       "5086     180149  2023-08-01  \n",
       "5087     180149  2023-08-01  "
      ]
     },
     "execution_count": 41,
     "metadata": {},
     "output_type": "execute_result"
    }
   ],
   "source": [
    "dfp"
   ]
  },
  {
   "cell_type": "code",
   "execution_count": 43,
   "id": "152de7ac-55a7-4575-bdf8-f5b66961bbe6",
   "metadata": {
    "scrolled": true
   },
   "outputs": [
    {
     "name": "stderr",
     "output_type": "stream",
     "text": [
      "/var/folders/p0/_9x9k0js55d0v7h2bltslszm0000gn/T/ipykernel_19545/3343009713.py:1: SettingWithCopyWarning:\n",
      "\n",
      "\n",
      "A value is trying to be set on a copy of a slice from a DataFrame.\n",
      "Try using .loc[row_indexer,col_indexer] = value instead\n",
      "\n",
      "See the caveats in the documentation: https://pandas.pydata.org/pandas-docs/stable/user_guide/indexing.html#returning-a-view-versus-a-copy\n",
      "\n",
      "/var/folders/p0/_9x9k0js55d0v7h2bltslszm0000gn/T/ipykernel_19545/3343009713.py:3: SettingWithCopyWarning:\n",
      "\n",
      "\n",
      "A value is trying to be set on a copy of a slice from a DataFrame.\n",
      "Try using .loc[row_indexer,col_indexer] = value instead\n",
      "\n",
      "See the caveats in the documentation: https://pandas.pydata.org/pandas-docs/stable/user_guide/indexing.html#returning-a-view-versus-a-copy\n",
      "\n"
     ]
    },
    {
     "data": {
      "application/vnd.plotly.v1+json": {
       "config": {
        "plotlyServerURL": "https://plot.ly"
       },
       "data": [
        {
         "type": "box",
         "x": [
          180003,
          180003,
          180003,
          180003,
          180003,
          180003,
          180149,
          180149,
          180149,
          180149,
          180149,
          180149
         ],
         "y": [
          0.042618,
          0.106376,
          0.134966,
          0.107583,
          0.123437,
          0.133093,
          0.081457,
          0.019944,
          0.018354,
          0.056705,
          0.045809,
          0.052743
         ]
        }
       ],
       "layout": {
        "boxmode": "overlay",
        "height": 500,
        "template": {
         "data": {
          "bar": [
           {
            "error_x": {
             "color": "#2a3f5f"
            },
            "error_y": {
             "color": "#2a3f5f"
            },
            "marker": {
             "line": {
              "color": "#E5ECF6",
              "width": 0.5
             },
             "pattern": {
              "fillmode": "overlay",
              "size": 10,
              "solidity": 0.2
             }
            },
            "type": "bar"
           }
          ],
          "barpolar": [
           {
            "marker": {
             "line": {
              "color": "#E5ECF6",
              "width": 0.5
             },
             "pattern": {
              "fillmode": "overlay",
              "size": 10,
              "solidity": 0.2
             }
            },
            "type": "barpolar"
           }
          ],
          "carpet": [
           {
            "aaxis": {
             "endlinecolor": "#2a3f5f",
             "gridcolor": "white",
             "linecolor": "white",
             "minorgridcolor": "white",
             "startlinecolor": "#2a3f5f"
            },
            "baxis": {
             "endlinecolor": "#2a3f5f",
             "gridcolor": "white",
             "linecolor": "white",
             "minorgridcolor": "white",
             "startlinecolor": "#2a3f5f"
            },
            "type": "carpet"
           }
          ],
          "choropleth": [
           {
            "colorbar": {
             "outlinewidth": 0,
             "ticks": ""
            },
            "type": "choropleth"
           }
          ],
          "contour": [
           {
            "colorbar": {
             "outlinewidth": 0,
             "ticks": ""
            },
            "colorscale": [
             [
              0,
              "#0d0887"
             ],
             [
              0.1111111111111111,
              "#46039f"
             ],
             [
              0.2222222222222222,
              "#7201a8"
             ],
             [
              0.3333333333333333,
              "#9c179e"
             ],
             [
              0.4444444444444444,
              "#bd3786"
             ],
             [
              0.5555555555555556,
              "#d8576b"
             ],
             [
              0.6666666666666666,
              "#ed7953"
             ],
             [
              0.7777777777777778,
              "#fb9f3a"
             ],
             [
              0.8888888888888888,
              "#fdca26"
             ],
             [
              1,
              "#f0f921"
             ]
            ],
            "type": "contour"
           }
          ],
          "contourcarpet": [
           {
            "colorbar": {
             "outlinewidth": 0,
             "ticks": ""
            },
            "type": "contourcarpet"
           }
          ],
          "heatmap": [
           {
            "colorbar": {
             "outlinewidth": 0,
             "ticks": ""
            },
            "colorscale": [
             [
              0,
              "#0d0887"
             ],
             [
              0.1111111111111111,
              "#46039f"
             ],
             [
              0.2222222222222222,
              "#7201a8"
             ],
             [
              0.3333333333333333,
              "#9c179e"
             ],
             [
              0.4444444444444444,
              "#bd3786"
             ],
             [
              0.5555555555555556,
              "#d8576b"
             ],
             [
              0.6666666666666666,
              "#ed7953"
             ],
             [
              0.7777777777777778,
              "#fb9f3a"
             ],
             [
              0.8888888888888888,
              "#fdca26"
             ],
             [
              1,
              "#f0f921"
             ]
            ],
            "type": "heatmap"
           }
          ],
          "heatmapgl": [
           {
            "colorbar": {
             "outlinewidth": 0,
             "ticks": ""
            },
            "colorscale": [
             [
              0,
              "#0d0887"
             ],
             [
              0.1111111111111111,
              "#46039f"
             ],
             [
              0.2222222222222222,
              "#7201a8"
             ],
             [
              0.3333333333333333,
              "#9c179e"
             ],
             [
              0.4444444444444444,
              "#bd3786"
             ],
             [
              0.5555555555555556,
              "#d8576b"
             ],
             [
              0.6666666666666666,
              "#ed7953"
             ],
             [
              0.7777777777777778,
              "#fb9f3a"
             ],
             [
              0.8888888888888888,
              "#fdca26"
             ],
             [
              1,
              "#f0f921"
             ]
            ],
            "type": "heatmapgl"
           }
          ],
          "histogram": [
           {
            "marker": {
             "pattern": {
              "fillmode": "overlay",
              "size": 10,
              "solidity": 0.2
             }
            },
            "type": "histogram"
           }
          ],
          "histogram2d": [
           {
            "colorbar": {
             "outlinewidth": 0,
             "ticks": ""
            },
            "colorscale": [
             [
              0,
              "#0d0887"
             ],
             [
              0.1111111111111111,
              "#46039f"
             ],
             [
              0.2222222222222222,
              "#7201a8"
             ],
             [
              0.3333333333333333,
              "#9c179e"
             ],
             [
              0.4444444444444444,
              "#bd3786"
             ],
             [
              0.5555555555555556,
              "#d8576b"
             ],
             [
              0.6666666666666666,
              "#ed7953"
             ],
             [
              0.7777777777777778,
              "#fb9f3a"
             ],
             [
              0.8888888888888888,
              "#fdca26"
             ],
             [
              1,
              "#f0f921"
             ]
            ],
            "type": "histogram2d"
           }
          ],
          "histogram2dcontour": [
           {
            "colorbar": {
             "outlinewidth": 0,
             "ticks": ""
            },
            "colorscale": [
             [
              0,
              "#0d0887"
             ],
             [
              0.1111111111111111,
              "#46039f"
             ],
             [
              0.2222222222222222,
              "#7201a8"
             ],
             [
              0.3333333333333333,
              "#9c179e"
             ],
             [
              0.4444444444444444,
              "#bd3786"
             ],
             [
              0.5555555555555556,
              "#d8576b"
             ],
             [
              0.6666666666666666,
              "#ed7953"
             ],
             [
              0.7777777777777778,
              "#fb9f3a"
             ],
             [
              0.8888888888888888,
              "#fdca26"
             ],
             [
              1,
              "#f0f921"
             ]
            ],
            "type": "histogram2dcontour"
           }
          ],
          "mesh3d": [
           {
            "colorbar": {
             "outlinewidth": 0,
             "ticks": ""
            },
            "type": "mesh3d"
           }
          ],
          "parcoords": [
           {
            "line": {
             "colorbar": {
              "outlinewidth": 0,
              "ticks": ""
             }
            },
            "type": "parcoords"
           }
          ],
          "pie": [
           {
            "automargin": true,
            "type": "pie"
           }
          ],
          "scatter": [
           {
            "fillpattern": {
             "fillmode": "overlay",
             "size": 10,
             "solidity": 0.2
            },
            "type": "scatter"
           }
          ],
          "scatter3d": [
           {
            "line": {
             "colorbar": {
              "outlinewidth": 0,
              "ticks": ""
             }
            },
            "marker": {
             "colorbar": {
              "outlinewidth": 0,
              "ticks": ""
             }
            },
            "type": "scatter3d"
           }
          ],
          "scattercarpet": [
           {
            "marker": {
             "colorbar": {
              "outlinewidth": 0,
              "ticks": ""
             }
            },
            "type": "scattercarpet"
           }
          ],
          "scattergeo": [
           {
            "marker": {
             "colorbar": {
              "outlinewidth": 0,
              "ticks": ""
             }
            },
            "type": "scattergeo"
           }
          ],
          "scattergl": [
           {
            "marker": {
             "colorbar": {
              "outlinewidth": 0,
              "ticks": ""
             }
            },
            "type": "scattergl"
           }
          ],
          "scattermapbox": [
           {
            "marker": {
             "colorbar": {
              "outlinewidth": 0,
              "ticks": ""
             }
            },
            "type": "scattermapbox"
           }
          ],
          "scatterpolar": [
           {
            "marker": {
             "colorbar": {
              "outlinewidth": 0,
              "ticks": ""
             }
            },
            "type": "scatterpolar"
           }
          ],
          "scatterpolargl": [
           {
            "marker": {
             "colorbar": {
              "outlinewidth": 0,
              "ticks": ""
             }
            },
            "type": "scatterpolargl"
           }
          ],
          "scatterternary": [
           {
            "marker": {
             "colorbar": {
              "outlinewidth": 0,
              "ticks": ""
             }
            },
            "type": "scatterternary"
           }
          ],
          "surface": [
           {
            "colorbar": {
             "outlinewidth": 0,
             "ticks": ""
            },
            "colorscale": [
             [
              0,
              "#0d0887"
             ],
             [
              0.1111111111111111,
              "#46039f"
             ],
             [
              0.2222222222222222,
              "#7201a8"
             ],
             [
              0.3333333333333333,
              "#9c179e"
             ],
             [
              0.4444444444444444,
              "#bd3786"
             ],
             [
              0.5555555555555556,
              "#d8576b"
             ],
             [
              0.6666666666666666,
              "#ed7953"
             ],
             [
              0.7777777777777778,
              "#fb9f3a"
             ],
             [
              0.8888888888888888,
              "#fdca26"
             ],
             [
              1,
              "#f0f921"
             ]
            ],
            "type": "surface"
           }
          ],
          "table": [
           {
            "cells": {
             "fill": {
              "color": "#EBF0F8"
             },
             "line": {
              "color": "white"
             }
            },
            "header": {
             "fill": {
              "color": "#C8D4E3"
             },
             "line": {
              "color": "white"
             }
            },
            "type": "table"
           }
          ]
         },
         "layout": {
          "annotationdefaults": {
           "arrowcolor": "#2a3f5f",
           "arrowhead": 0,
           "arrowwidth": 1
          },
          "autotypenumbers": "strict",
          "coloraxis": {
           "colorbar": {
            "outlinewidth": 0,
            "ticks": ""
           }
          },
          "colorscale": {
           "diverging": [
            [
             0,
             "#8e0152"
            ],
            [
             0.1,
             "#c51b7d"
            ],
            [
             0.2,
             "#de77ae"
            ],
            [
             0.3,
             "#f1b6da"
            ],
            [
             0.4,
             "#fde0ef"
            ],
            [
             0.5,
             "#f7f7f7"
            ],
            [
             0.6,
             "#e6f5d0"
            ],
            [
             0.7,
             "#b8e186"
            ],
            [
             0.8,
             "#7fbc41"
            ],
            [
             0.9,
             "#4d9221"
            ],
            [
             1,
             "#276419"
            ]
           ],
           "sequential": [
            [
             0,
             "#0d0887"
            ],
            [
             0.1111111111111111,
             "#46039f"
            ],
            [
             0.2222222222222222,
             "#7201a8"
            ],
            [
             0.3333333333333333,
             "#9c179e"
            ],
            [
             0.4444444444444444,
             "#bd3786"
            ],
            [
             0.5555555555555556,
             "#d8576b"
            ],
            [
             0.6666666666666666,
             "#ed7953"
            ],
            [
             0.7777777777777778,
             "#fb9f3a"
            ],
            [
             0.8888888888888888,
             "#fdca26"
            ],
            [
             1,
             "#f0f921"
            ]
           ],
           "sequentialminus": [
            [
             0,
             "#0d0887"
            ],
            [
             0.1111111111111111,
             "#46039f"
            ],
            [
             0.2222222222222222,
             "#7201a8"
            ],
            [
             0.3333333333333333,
             "#9c179e"
            ],
            [
             0.4444444444444444,
             "#bd3786"
            ],
            [
             0.5555555555555556,
             "#d8576b"
            ],
            [
             0.6666666666666666,
             "#ed7953"
            ],
            [
             0.7777777777777778,
             "#fb9f3a"
            ],
            [
             0.8888888888888888,
             "#fdca26"
            ],
            [
             1,
             "#f0f921"
            ]
           ]
          },
          "colorway": [
           "#636efa",
           "#EF553B",
           "#00cc96",
           "#ab63fa",
           "#FFA15A",
           "#19d3f3",
           "#FF6692",
           "#B6E880",
           "#FF97FF",
           "#FECB52"
          ],
          "font": {
           "color": "#2a3f5f"
          },
          "geo": {
           "bgcolor": "white",
           "lakecolor": "white",
           "landcolor": "#E5ECF6",
           "showlakes": true,
           "showland": true,
           "subunitcolor": "white"
          },
          "hoverlabel": {
           "align": "left"
          },
          "hovermode": "closest",
          "mapbox": {
           "style": "light"
          },
          "paper_bgcolor": "white",
          "plot_bgcolor": "#E5ECF6",
          "polar": {
           "angularaxis": {
            "gridcolor": "white",
            "linecolor": "white",
            "ticks": ""
           },
           "bgcolor": "#E5ECF6",
           "radialaxis": {
            "gridcolor": "white",
            "linecolor": "white",
            "ticks": ""
           }
          },
          "scene": {
           "xaxis": {
            "backgroundcolor": "#E5ECF6",
            "gridcolor": "white",
            "gridwidth": 2,
            "linecolor": "white",
            "showbackground": true,
            "ticks": "",
            "zerolinecolor": "white"
           },
           "yaxis": {
            "backgroundcolor": "#E5ECF6",
            "gridcolor": "white",
            "gridwidth": 2,
            "linecolor": "white",
            "showbackground": true,
            "ticks": "",
            "zerolinecolor": "white"
           },
           "zaxis": {
            "backgroundcolor": "#E5ECF6",
            "gridcolor": "white",
            "gridwidth": 2,
            "linecolor": "white",
            "showbackground": true,
            "ticks": "",
            "zerolinecolor": "white"
           }
          },
          "shapedefaults": {
           "line": {
            "color": "#2a3f5f"
           }
          },
          "ternary": {
           "aaxis": {
            "gridcolor": "white",
            "linecolor": "white",
            "ticks": ""
           },
           "baxis": {
            "gridcolor": "white",
            "linecolor": "white",
            "ticks": ""
           },
           "bgcolor": "#E5ECF6",
           "caxis": {
            "gridcolor": "white",
            "linecolor": "white",
            "ticks": ""
           }
          },
          "title": {
           "x": 0.05
          },
          "xaxis": {
           "automargin": true,
           "gridcolor": "white",
           "linecolor": "white",
           "ticks": "",
           "title": {
            "standoff": 15
           },
           "zerolinecolor": "white",
           "zerolinewidth": 2
          },
          "yaxis": {
           "automargin": true,
           "gridcolor": "white",
           "linecolor": "white",
           "ticks": "",
           "title": {
            "standoff": 15
           },
           "zerolinecolor": "white",
           "zerolinewidth": 2
          }
         }
        },
        "title": {
         "text": "gs variability",
         "x": 0.5
        },
        "width": 800,
        "xaxis": {
         "autorange": true,
         "range": [
          179930,
          180222
         ],
         "tickangle": 45,
         "tickmode": "array",
         "ticktext": [
          "01/08 06:39",
          "01/08 06:39",
          "01/08 06:39",
          "01/08 06:39",
          "01/08 06:39",
          "01/08 06:39",
          "01/08 09:05",
          "01/08 09:05",
          "01/08 09:05",
          "01/08 09:05",
          "01/08 09:05",
          "01/08 09:05"
         ],
         "tickvals": [
          180003,
          180003,
          180003,
          180003,
          180003,
          180003,
          180149,
          180149,
          180149,
          180149,
          180149,
          180149
         ],
         "title": {
          "text": "Date"
         },
         "type": "linear"
        },
        "yaxis": {
         "autorange": true,
         "range": [
          0.011875555555555552,
          0.14144444444444446
         ],
         "title": {
          "text": "gs"
         },
         "type": "linear"
        }
       }
      },
      "text/html": [
       "<div>                            <div id=\"91077545-4fb2-491c-ac49-a1cfb524b210\" class=\"plotly-graph-div\" style=\"height:500px; width:800px;\"></div>            <script type=\"text/javascript\">                require([\"plotly\"], function(Plotly) {                    window.PLOTLYENV=window.PLOTLYENV || {};                                    if (document.getElementById(\"91077545-4fb2-491c-ac49-a1cfb524b210\")) {                    Plotly.newPlot(                        \"91077545-4fb2-491c-ac49-a1cfb524b210\",                        [{\"x\":[180003,180003,180003,180003,180003,180003,180149,180149,180149,180149,180149,180149],\"y\":[0.042618,0.106376,0.134966,0.107583,0.123437,0.133093,0.081457,0.019944,0.018354,0.056705,0.045809,0.052743],\"type\":\"box\"}],                        {\"template\":{\"data\":{\"histogram2dcontour\":[{\"type\":\"histogram2dcontour\",\"colorbar\":{\"outlinewidth\":0,\"ticks\":\"\"},\"colorscale\":[[0.0,\"#0d0887\"],[0.1111111111111111,\"#46039f\"],[0.2222222222222222,\"#7201a8\"],[0.3333333333333333,\"#9c179e\"],[0.4444444444444444,\"#bd3786\"],[0.5555555555555556,\"#d8576b\"],[0.6666666666666666,\"#ed7953\"],[0.7777777777777778,\"#fb9f3a\"],[0.8888888888888888,\"#fdca26\"],[1.0,\"#f0f921\"]]}],\"choropleth\":[{\"type\":\"choropleth\",\"colorbar\":{\"outlinewidth\":0,\"ticks\":\"\"}}],\"histogram2d\":[{\"type\":\"histogram2d\",\"colorbar\":{\"outlinewidth\":0,\"ticks\":\"\"},\"colorscale\":[[0.0,\"#0d0887\"],[0.1111111111111111,\"#46039f\"],[0.2222222222222222,\"#7201a8\"],[0.3333333333333333,\"#9c179e\"],[0.4444444444444444,\"#bd3786\"],[0.5555555555555556,\"#d8576b\"],[0.6666666666666666,\"#ed7953\"],[0.7777777777777778,\"#fb9f3a\"],[0.8888888888888888,\"#fdca26\"],[1.0,\"#f0f921\"]]}],\"heatmap\":[{\"type\":\"heatmap\",\"colorbar\":{\"outlinewidth\":0,\"ticks\":\"\"},\"colorscale\":[[0.0,\"#0d0887\"],[0.1111111111111111,\"#46039f\"],[0.2222222222222222,\"#7201a8\"],[0.3333333333333333,\"#9c179e\"],[0.4444444444444444,\"#bd3786\"],[0.5555555555555556,\"#d8576b\"],[0.6666666666666666,\"#ed7953\"],[0.7777777777777778,\"#fb9f3a\"],[0.8888888888888888,\"#fdca26\"],[1.0,\"#f0f921\"]]}],\"heatmapgl\":[{\"type\":\"heatmapgl\",\"colorbar\":{\"outlinewidth\":0,\"ticks\":\"\"},\"colorscale\":[[0.0,\"#0d0887\"],[0.1111111111111111,\"#46039f\"],[0.2222222222222222,\"#7201a8\"],[0.3333333333333333,\"#9c179e\"],[0.4444444444444444,\"#bd3786\"],[0.5555555555555556,\"#d8576b\"],[0.6666666666666666,\"#ed7953\"],[0.7777777777777778,\"#fb9f3a\"],[0.8888888888888888,\"#fdca26\"],[1.0,\"#f0f921\"]]}],\"contourcarpet\":[{\"type\":\"contourcarpet\",\"colorbar\":{\"outlinewidth\":0,\"ticks\":\"\"}}],\"contour\":[{\"type\":\"contour\",\"colorbar\":{\"outlinewidth\":0,\"ticks\":\"\"},\"colorscale\":[[0.0,\"#0d0887\"],[0.1111111111111111,\"#46039f\"],[0.2222222222222222,\"#7201a8\"],[0.3333333333333333,\"#9c179e\"],[0.4444444444444444,\"#bd3786\"],[0.5555555555555556,\"#d8576b\"],[0.6666666666666666,\"#ed7953\"],[0.7777777777777778,\"#fb9f3a\"],[0.8888888888888888,\"#fdca26\"],[1.0,\"#f0f921\"]]}],\"surface\":[{\"type\":\"surface\",\"colorbar\":{\"outlinewidth\":0,\"ticks\":\"\"},\"colorscale\":[[0.0,\"#0d0887\"],[0.1111111111111111,\"#46039f\"],[0.2222222222222222,\"#7201a8\"],[0.3333333333333333,\"#9c179e\"],[0.4444444444444444,\"#bd3786\"],[0.5555555555555556,\"#d8576b\"],[0.6666666666666666,\"#ed7953\"],[0.7777777777777778,\"#fb9f3a\"],[0.8888888888888888,\"#fdca26\"],[1.0,\"#f0f921\"]]}],\"mesh3d\":[{\"type\":\"mesh3d\",\"colorbar\":{\"outlinewidth\":0,\"ticks\":\"\"}}],\"scatter\":[{\"fillpattern\":{\"fillmode\":\"overlay\",\"size\":10,\"solidity\":0.2},\"type\":\"scatter\"}],\"parcoords\":[{\"type\":\"parcoords\",\"line\":{\"colorbar\":{\"outlinewidth\":0,\"ticks\":\"\"}}}],\"scatterpolargl\":[{\"type\":\"scatterpolargl\",\"marker\":{\"colorbar\":{\"outlinewidth\":0,\"ticks\":\"\"}}}],\"bar\":[{\"error_x\":{\"color\":\"#2a3f5f\"},\"error_y\":{\"color\":\"#2a3f5f\"},\"marker\":{\"line\":{\"color\":\"#E5ECF6\",\"width\":0.5},\"pattern\":{\"fillmode\":\"overlay\",\"size\":10,\"solidity\":0.2}},\"type\":\"bar\"}],\"scattergeo\":[{\"type\":\"scattergeo\",\"marker\":{\"colorbar\":{\"outlinewidth\":0,\"ticks\":\"\"}}}],\"scatterpolar\":[{\"type\":\"scatterpolar\",\"marker\":{\"colorbar\":{\"outlinewidth\":0,\"ticks\":\"\"}}}],\"histogram\":[{\"marker\":{\"pattern\":{\"fillmode\":\"overlay\",\"size\":10,\"solidity\":0.2}},\"type\":\"histogram\"}],\"scattergl\":[{\"type\":\"scattergl\",\"marker\":{\"colorbar\":{\"outlinewidth\":0,\"ticks\":\"\"}}}],\"scatter3d\":[{\"type\":\"scatter3d\",\"line\":{\"colorbar\":{\"outlinewidth\":0,\"ticks\":\"\"}},\"marker\":{\"colorbar\":{\"outlinewidth\":0,\"ticks\":\"\"}}}],\"scattermapbox\":[{\"type\":\"scattermapbox\",\"marker\":{\"colorbar\":{\"outlinewidth\":0,\"ticks\":\"\"}}}],\"scatterternary\":[{\"type\":\"scatterternary\",\"marker\":{\"colorbar\":{\"outlinewidth\":0,\"ticks\":\"\"}}}],\"scattercarpet\":[{\"type\":\"scattercarpet\",\"marker\":{\"colorbar\":{\"outlinewidth\":0,\"ticks\":\"\"}}}],\"carpet\":[{\"aaxis\":{\"endlinecolor\":\"#2a3f5f\",\"gridcolor\":\"white\",\"linecolor\":\"white\",\"minorgridcolor\":\"white\",\"startlinecolor\":\"#2a3f5f\"},\"baxis\":{\"endlinecolor\":\"#2a3f5f\",\"gridcolor\":\"white\",\"linecolor\":\"white\",\"minorgridcolor\":\"white\",\"startlinecolor\":\"#2a3f5f\"},\"type\":\"carpet\"}],\"table\":[{\"cells\":{\"fill\":{\"color\":\"#EBF0F8\"},\"line\":{\"color\":\"white\"}},\"header\":{\"fill\":{\"color\":\"#C8D4E3\"},\"line\":{\"color\":\"white\"}},\"type\":\"table\"}],\"barpolar\":[{\"marker\":{\"line\":{\"color\":\"#E5ECF6\",\"width\":0.5},\"pattern\":{\"fillmode\":\"overlay\",\"size\":10,\"solidity\":0.2}},\"type\":\"barpolar\"}],\"pie\":[{\"automargin\":true,\"type\":\"pie\"}]},\"layout\":{\"autotypenumbers\":\"strict\",\"colorway\":[\"#636efa\",\"#EF553B\",\"#00cc96\",\"#ab63fa\",\"#FFA15A\",\"#19d3f3\",\"#FF6692\",\"#B6E880\",\"#FF97FF\",\"#FECB52\"],\"font\":{\"color\":\"#2a3f5f\"},\"hovermode\":\"closest\",\"hoverlabel\":{\"align\":\"left\"},\"paper_bgcolor\":\"white\",\"plot_bgcolor\":\"#E5ECF6\",\"polar\":{\"bgcolor\":\"#E5ECF6\",\"angularaxis\":{\"gridcolor\":\"white\",\"linecolor\":\"white\",\"ticks\":\"\"},\"radialaxis\":{\"gridcolor\":\"white\",\"linecolor\":\"white\",\"ticks\":\"\"}},\"ternary\":{\"bgcolor\":\"#E5ECF6\",\"aaxis\":{\"gridcolor\":\"white\",\"linecolor\":\"white\",\"ticks\":\"\"},\"baxis\":{\"gridcolor\":\"white\",\"linecolor\":\"white\",\"ticks\":\"\"},\"caxis\":{\"gridcolor\":\"white\",\"linecolor\":\"white\",\"ticks\":\"\"}},\"coloraxis\":{\"colorbar\":{\"outlinewidth\":0,\"ticks\":\"\"}},\"colorscale\":{\"sequential\":[[0.0,\"#0d0887\"],[0.1111111111111111,\"#46039f\"],[0.2222222222222222,\"#7201a8\"],[0.3333333333333333,\"#9c179e\"],[0.4444444444444444,\"#bd3786\"],[0.5555555555555556,\"#d8576b\"],[0.6666666666666666,\"#ed7953\"],[0.7777777777777778,\"#fb9f3a\"],[0.8888888888888888,\"#fdca26\"],[1.0,\"#f0f921\"]],\"sequentialminus\":[[0.0,\"#0d0887\"],[0.1111111111111111,\"#46039f\"],[0.2222222222222222,\"#7201a8\"],[0.3333333333333333,\"#9c179e\"],[0.4444444444444444,\"#bd3786\"],[0.5555555555555556,\"#d8576b\"],[0.6666666666666666,\"#ed7953\"],[0.7777777777777778,\"#fb9f3a\"],[0.8888888888888888,\"#fdca26\"],[1.0,\"#f0f921\"]],\"diverging\":[[0,\"#8e0152\"],[0.1,\"#c51b7d\"],[0.2,\"#de77ae\"],[0.3,\"#f1b6da\"],[0.4,\"#fde0ef\"],[0.5,\"#f7f7f7\"],[0.6,\"#e6f5d0\"],[0.7,\"#b8e186\"],[0.8,\"#7fbc41\"],[0.9,\"#4d9221\"],[1,\"#276419\"]]},\"xaxis\":{\"gridcolor\":\"white\",\"linecolor\":\"white\",\"ticks\":\"\",\"title\":{\"standoff\":15},\"zerolinecolor\":\"white\",\"automargin\":true,\"zerolinewidth\":2},\"yaxis\":{\"gridcolor\":\"white\",\"linecolor\":\"white\",\"ticks\":\"\",\"title\":{\"standoff\":15},\"zerolinecolor\":\"white\",\"automargin\":true,\"zerolinewidth\":2},\"scene\":{\"xaxis\":{\"backgroundcolor\":\"#E5ECF6\",\"gridcolor\":\"white\",\"linecolor\":\"white\",\"showbackground\":true,\"ticks\":\"\",\"zerolinecolor\":\"white\",\"gridwidth\":2},\"yaxis\":{\"backgroundcolor\":\"#E5ECF6\",\"gridcolor\":\"white\",\"linecolor\":\"white\",\"showbackground\":true,\"ticks\":\"\",\"zerolinecolor\":\"white\",\"gridwidth\":2},\"zaxis\":{\"backgroundcolor\":\"#E5ECF6\",\"gridcolor\":\"white\",\"linecolor\":\"white\",\"showbackground\":true,\"ticks\":\"\",\"zerolinecolor\":\"white\",\"gridwidth\":2}},\"shapedefaults\":{\"line\":{\"color\":\"#2a3f5f\"}},\"annotationdefaults\":{\"arrowcolor\":\"#2a3f5f\",\"arrowhead\":0,\"arrowwidth\":1},\"geo\":{\"bgcolor\":\"white\",\"landcolor\":\"#E5ECF6\",\"subunitcolor\":\"white\",\"showland\":true,\"showlakes\":true,\"lakecolor\":\"white\"},\"title\":{\"x\":0.05},\"mapbox\":{\"style\":\"light\"}}},\"boxmode\":\"overlay\",\"width\":800,\"height\":500,\"title\":{\"text\":\"gs variability\",\"x\":0.5},\"xaxis\":{\"title\":{\"text\":\"Date\"},\"tickmode\":\"array\",\"tickvals\":[180003,180003,180003,180003,180003,180003,180149,180149,180149,180149,180149,180149],\"ticktext\":[\"01/08 06:39\",\"01/08 06:39\",\"01/08 06:39\",\"01/08 06:39\",\"01/08 06:39\",\"01/08 06:39\",\"01/08 09:05\",\"01/08 09:05\",\"01/08 09:05\",\"01/08 09:05\",\"01/08 09:05\",\"01/08 09:05\"],\"tickangle\":45},\"yaxis\":{\"title\":{\"text\":\"gs\"}}},                        {\"responsive\": true}                    ).then(function(){\n",
       "                            \n",
       "var gd = document.getElementById('91077545-4fb2-491c-ac49-a1cfb524b210');\n",
       "var x = new MutationObserver(function (mutations, observer) {{\n",
       "        var display = window.getComputedStyle(gd).display;\n",
       "        if (!display || display === 'none') {{\n",
       "            console.log([gd, 'removed!']);\n",
       "            Plotly.purge(gd);\n",
       "            observer.disconnect();\n",
       "        }}\n",
       "}});\n",
       "\n",
       "// Listen for the removal of the full notebook cells\n",
       "var notebookContainer = gd.closest('#notebook-container');\n",
       "if (notebookContainer) {{\n",
       "    x.observe(notebookContainer, {childList: true});\n",
       "}}\n",
       "\n",
       "// Listen for the clearing of the current output cell\n",
       "var outputEl = gd.closest('.output');\n",
       "if (outputEl) {{\n",
       "    x.observe(outputEl, {childList: true});\n",
       "}}\n",
       "\n",
       "                        })                };                });            </script>        </div>"
      ]
     },
     "metadata": {},
     "output_type": "display_data"
    }
   ],
   "source": [
    "dfp[\"rounddate\"] = dfp[\"round\"].apply(lambda r: rounds[\"timestamp\"].loc[r])\n",
    "#dfp[\"rounddate\"] = dfp[\"round\"].apply(lambda r: rounds[\"timestamp\"][r])\n",
    "dfp[\"labels\"] = dfp[\"rounddate\"].apply(lambda t: t.strftime('%d/%m %H:%M'))\n",
    "    \n",
    "#dfp[\"rounddate\"]=[rounds[\"timestamp\"][r] for r in dfp[\"round\"]]\n",
    "#dfp[\"labels\"]=[t.strftime('%d/%m %H:%M') for t in dfp[\"rounddate\"]]\n",
    "\n",
    "x_label = 'roundtime'\n",
    "y_label = 'gsw'\n",
    "#dfp=df.iloc[:36,:]\n",
    "fig = go.Figure(data=go.Box(x=dfp[x_label], y=dfp[y_label]))\n",
    "fig.update_layout(boxmode='overlay', width=800, height=500)\n",
    "fig.update_layout(title=\"gs variability\",title_x=0.5)\n",
    "\n",
    "fig.update_xaxes(\n",
    "    tickmode='array',\n",
    "    tickvals=dfp[x_label],\n",
    "    ticktext=dfp[\"labels\"],\n",
    "    tickangle=45,\n",
    "    title_text=\"Date\"\n",
    ")\n",
    "fig.update_yaxes(title_text=\"gs\")\n",
    "fig.show()"
   ]
  },
  {
   "cell_type": "code",
   "execution_count": 46,
   "id": "012e828d-74ef-4e35-8bd9-b8d7c17ae6d6",
   "metadata": {},
   "outputs": [
    {
     "data": {
      "text/plain": [
       "[1, 2, 3, 4]"
      ]
     },
     "execution_count": 46,
     "metadata": {},
     "output_type": "execute_result"
    }
   ],
   "source": [
    "import pandas as pd\n",
    "import sf2gs_app.dfg2db as dfg\n",
    "DBTABLE='gs_irriwell2023'\n",
    "df=dfg.db2df(DBTABLE)\n",
    "stations=list(set(df['irriwell']))"
   ]
  },
  {
   "cell_type": "code",
   "execution_count": 33,
   "id": "7237e90b-e0ac-42eb-ab69-17b1fb4fea6d",
   "metadata": {},
   "outputs": [
    {
     "data": {
      "text/plain": [
       "[12,\n",
       " 12,\n",
       " 12,\n",
       " 12,\n",
       " 12,\n",
       " 12,\n",
       " 13,\n",
       " 13,\n",
       " 13,\n",
       " 13,\n",
       " 13,\n",
       " 13,\n",
       " 14,\n",
       " 14,\n",
       " 14,\n",
       " 14,\n",
       " 14,\n",
       " 14,\n",
       " 15,\n",
       " 15,\n",
       " 15,\n",
       " 15,\n",
       " 15,\n",
       " 15,\n",
       " 16,\n",
       " 16,\n",
       " 16,\n",
       " 16,\n",
       " 16,\n",
       " 16,\n",
       " 17,\n",
       " 17,\n",
       " 17,\n",
       " 17,\n",
       " 17,\n",
       " 17]"
      ]
     },
     "execution_count": 33,
     "metadata": {},
     "output_type": "execute_result"
    }
   ],
   "source": [
    "[r for r in dfp['round']]"
   ]
  },
  {
   "cell_type": "code",
   "execution_count": 10,
   "id": "44acc151-d108-4764-bad7-a9d61a7f848b",
   "metadata": {},
   "outputs": [
    {
     "data": {
      "text/plain": [
       "['2023', '06', '22']"
      ]
     },
     "execution_count": 10,
     "metadata": {},
     "output_type": "execute_result"
    }
   ],
   "source": [
    "vdate"
   ]
  },
  {
   "cell_type": "code",
   "execution_count": 12,
   "id": "7ff6d0fd-f60c-4957-8bf4-7a8057884b3b",
   "metadata": {},
   "outputs": [
    {
     "data": {
      "text/html": [
       "<div>\n",
       "<style scoped>\n",
       "    .dataframe tbody tr th:only-of-type {\n",
       "        vertical-align: middle;\n",
       "    }\n",
       "\n",
       "    .dataframe tbody tr th {\n",
       "        vertical-align: top;\n",
       "    }\n",
       "\n",
       "    .dataframe thead th {\n",
       "        text-align: right;\n",
       "    }\n",
       "</style>\n",
       "<table border=\"1\" class=\"dataframe\">\n",
       "  <thead>\n",
       "    <tr style=\"text-align: right;\">\n",
       "      <th></th>\n",
       "      <th>timestamp</th>\n",
       "      <th>gsw</th>\n",
       "      <th>date_time</th>\n",
       "      <th>timediff</th>\n",
       "      <th>round</th>\n",
       "      <th>roundtime</th>\n",
       "      <th>date</th>\n",
       "      <th>rounddate</th>\n",
       "      <th>labels</th>\n",
       "    </tr>\n",
       "  </thead>\n",
       "  <tbody>\n",
       "    <tr>\n",
       "      <th>6</th>\n",
       "      <td>2023-03-29 06:35:59</td>\n",
       "      <td>0.241136</td>\n",
       "      <td>2023-03-29 06:35:59</td>\n",
       "      <td>NaT</td>\n",
       "      <td>0</td>\n",
       "      <td>0</td>\n",
       "      <td>2023-03-29</td>\n",
       "      <td>2023-03-29 06:36:50.833333248</td>\n",
       "      <td>29/03 06:36</td>\n",
       "    </tr>\n",
       "    <tr>\n",
       "      <th>7</th>\n",
       "      <td>2023-03-29 06:36:23</td>\n",
       "      <td>0.178329</td>\n",
       "      <td>2023-03-29 06:36:23</td>\n",
       "      <td>0 days 00:00:24</td>\n",
       "      <td>0</td>\n",
       "      <td>0</td>\n",
       "      <td>2023-03-29</td>\n",
       "      <td>2023-03-29 06:36:50.833333248</td>\n",
       "      <td>29/03 06:36</td>\n",
       "    </tr>\n",
       "    <tr>\n",
       "      <th>8</th>\n",
       "      <td>2023-03-29 06:36:44</td>\n",
       "      <td>0.104047</td>\n",
       "      <td>2023-03-29 06:36:44</td>\n",
       "      <td>0 days 00:00:21</td>\n",
       "      <td>0</td>\n",
       "      <td>0</td>\n",
       "      <td>2023-03-29</td>\n",
       "      <td>2023-03-29 06:36:50.833333248</td>\n",
       "      <td>29/03 06:36</td>\n",
       "    </tr>\n",
       "    <tr>\n",
       "      <th>9</th>\n",
       "      <td>2023-03-29 06:37:06</td>\n",
       "      <td>0.078347</td>\n",
       "      <td>2023-03-29 06:37:06</td>\n",
       "      <td>0 days 00:00:22</td>\n",
       "      <td>0</td>\n",
       "      <td>0</td>\n",
       "      <td>2023-03-29</td>\n",
       "      <td>2023-03-29 06:36:50.833333248</td>\n",
       "      <td>29/03 06:36</td>\n",
       "    </tr>\n",
       "    <tr>\n",
       "      <th>10</th>\n",
       "      <td>2023-03-29 06:37:20</td>\n",
       "      <td>0.094278</td>\n",
       "      <td>2023-03-29 06:37:20</td>\n",
       "      <td>0 days 00:00:14</td>\n",
       "      <td>0</td>\n",
       "      <td>0</td>\n",
       "      <td>2023-03-29</td>\n",
       "      <td>2023-03-29 06:36:50.833333248</td>\n",
       "      <td>29/03 06:36</td>\n",
       "    </tr>\n",
       "    <tr>\n",
       "      <th>...</th>\n",
       "      <td>...</td>\n",
       "      <td>...</td>\n",
       "      <td>...</td>\n",
       "      <td>...</td>\n",
       "      <td>...</td>\n",
       "      <td>...</td>\n",
       "      <td>...</td>\n",
       "      <td>...</td>\n",
       "      <td>...</td>\n",
       "    </tr>\n",
       "    <tr>\n",
       "      <th>5083</th>\n",
       "      <td>2023-08-01 09:05:03</td>\n",
       "      <td>0.019944</td>\n",
       "      <td>2023-08-01 09:05:03</td>\n",
       "      <td>0 days 00:00:06</td>\n",
       "      <td>53</td>\n",
       "      <td>180149</td>\n",
       "      <td>2023-08-01</td>\n",
       "      <td>2023-08-01 09:05:17.500000000</td>\n",
       "      <td>01/08 09:05</td>\n",
       "    </tr>\n",
       "    <tr>\n",
       "      <th>5084</th>\n",
       "      <td>2023-08-01 09:05:13</td>\n",
       "      <td>0.018354</td>\n",
       "      <td>2023-08-01 09:05:13</td>\n",
       "      <td>0 days 00:00:10</td>\n",
       "      <td>53</td>\n",
       "      <td>180149</td>\n",
       "      <td>2023-08-01</td>\n",
       "      <td>2023-08-01 09:05:17.500000000</td>\n",
       "      <td>01/08 09:05</td>\n",
       "    </tr>\n",
       "    <tr>\n",
       "      <th>5085</th>\n",
       "      <td>2023-08-01 09:05:24</td>\n",
       "      <td>0.056705</td>\n",
       "      <td>2023-08-01 09:05:24</td>\n",
       "      <td>0 days 00:00:11</td>\n",
       "      <td>53</td>\n",
       "      <td>180149</td>\n",
       "      <td>2023-08-01</td>\n",
       "      <td>2023-08-01 09:05:17.500000000</td>\n",
       "      <td>01/08 09:05</td>\n",
       "    </tr>\n",
       "    <tr>\n",
       "      <th>5086</th>\n",
       "      <td>2023-08-01 09:05:31</td>\n",
       "      <td>0.045809</td>\n",
       "      <td>2023-08-01 09:05:31</td>\n",
       "      <td>0 days 00:00:07</td>\n",
       "      <td>53</td>\n",
       "      <td>180149</td>\n",
       "      <td>2023-08-01</td>\n",
       "      <td>2023-08-01 09:05:17.500000000</td>\n",
       "      <td>01/08 09:05</td>\n",
       "    </tr>\n",
       "    <tr>\n",
       "      <th>5087</th>\n",
       "      <td>2023-08-01 09:05:37</td>\n",
       "      <td>0.052743</td>\n",
       "      <td>2023-08-01 09:05:37</td>\n",
       "      <td>0 days 00:00:06</td>\n",
       "      <td>53</td>\n",
       "      <td>180149</td>\n",
       "      <td>2023-08-01</td>\n",
       "      <td>2023-08-01 09:05:17.500000000</td>\n",
       "      <td>01/08 09:05</td>\n",
       "    </tr>\n",
       "  </tbody>\n",
       "</table>\n",
       "<p>324 rows × 9 columns</p>\n",
       "</div>"
      ],
      "text/plain": [
       "               timestamp       gsw           date_time        timediff  round  \\\n",
       "6    2023-03-29 06:35:59  0.241136 2023-03-29 06:35:59             NaT      0   \n",
       "7    2023-03-29 06:36:23  0.178329 2023-03-29 06:36:23 0 days 00:00:24      0   \n",
       "8    2023-03-29 06:36:44  0.104047 2023-03-29 06:36:44 0 days 00:00:21      0   \n",
       "9    2023-03-29 06:37:06  0.078347 2023-03-29 06:37:06 0 days 00:00:22      0   \n",
       "10   2023-03-29 06:37:20  0.094278 2023-03-29 06:37:20 0 days 00:00:14      0   \n",
       "...                  ...       ...                 ...             ...    ...   \n",
       "5083 2023-08-01 09:05:03  0.019944 2023-08-01 09:05:03 0 days 00:00:06     53   \n",
       "5084 2023-08-01 09:05:13  0.018354 2023-08-01 09:05:13 0 days 00:00:10     53   \n",
       "5085 2023-08-01 09:05:24  0.056705 2023-08-01 09:05:24 0 days 00:00:11     53   \n",
       "5086 2023-08-01 09:05:31  0.045809 2023-08-01 09:05:31 0 days 00:00:07     53   \n",
       "5087 2023-08-01 09:05:37  0.052743 2023-08-01 09:05:37 0 days 00:00:06     53   \n",
       "\n",
       "      roundtime        date                     rounddate       labels  \n",
       "6             0  2023-03-29 2023-03-29 06:36:50.833333248  29/03 06:36  \n",
       "7             0  2023-03-29 2023-03-29 06:36:50.833333248  29/03 06:36  \n",
       "8             0  2023-03-29 2023-03-29 06:36:50.833333248  29/03 06:36  \n",
       "9             0  2023-03-29 2023-03-29 06:36:50.833333248  29/03 06:36  \n",
       "10            0  2023-03-29 2023-03-29 06:36:50.833333248  29/03 06:36  \n",
       "...         ...         ...                           ...          ...  \n",
       "5083     180149  2023-08-01 2023-08-01 09:05:17.500000000  01/08 09:05  \n",
       "5084     180149  2023-08-01 2023-08-01 09:05:17.500000000  01/08 09:05  \n",
       "5085     180149  2023-08-01 2023-08-01 09:05:17.500000000  01/08 09:05  \n",
       "5086     180149  2023-08-01 2023-08-01 09:05:17.500000000  01/08 09:05  \n",
       "5087     180149  2023-08-01 2023-08-01 09:05:17.500000000  01/08 09:05  \n",
       "\n",
       "[324 rows x 9 columns]"
      ]
     },
     "execution_count": 12,
     "metadata": {},
     "output_type": "execute_result"
    }
   ],
   "source": [
    "df"
   ]
  },
  {
   "cell_type": "code",
   "execution_count": 20,
   "id": "720175f9-44f7-40bb-9a53-b5b03e2d768d",
   "metadata": {
    "scrolled": true
   },
   "outputs": [
    {
     "name": "stdout",
     "output_type": "stream",
     "text": [
      "<class 'pandas.core.series.Series'>\n",
      "<class 'datetime.date'>\n"
     ]
    }
   ],
   "source": [
    "target=pd.to_datetime('2023/06/14')\n",
    "#df.query(f\"date == {target}\")\n",
    "print(type(df[\"date\"]))\n",
    "print(type(df[\"date\"].values[0]))"
   ]
  },
  {
   "cell_type": "code",
   "execution_count": 21,
   "id": "31f8ccfd-6f08-410d-bdae-7a5378afcd56",
   "metadata": {},
   "outputs": [
    {
     "name": "stdout",
     "output_type": "stream",
     "text": [
      "Empty DataFrame\n",
      "Columns: [timestamp, gsw, date_time, timediff, round, roundtime, date, rounddate, labels]\n",
      "Index: []\n"
     ]
    }
   ],
   "source": [
    "fecha_concreta_str=\"14/06/2023\"\n",
    "fecha_concreta_formatted = pd.to_datetime(fecha_concreta_str, format='%d/%m/%Y').strftime('%Y-%m-%d')\n",
    "\n",
    "# Filtra el DataFrame por la fecha concreta utilizando df.query()\n",
    "df_filtrado = df.query('date == @fecha_concreta_formatted')\n",
    "\n",
    "print(df_filtrado)\n"
   ]
  },
  {
   "cell_type": "code",
   "execution_count": 27,
   "id": "24487ed3-df64-45fb-9c49-c4419258f022",
   "metadata": {},
   "outputs": [
    {
     "data": {
      "text/plain": [
       "timestamp           2023-06-14 08:48:35\n",
       "gsw                            0.088151\n",
       "date_time           2023-06-14 08:48:35\n",
       "timediff                0 days 00:00:06\n",
       "round                                16\n",
       "roundtime                        111012\n",
       "date                         2023-06-14\n",
       "rounddate    2023-06-14 08:48:23.500000\n",
       "labels                      14/06 08:48\n",
       "Name: 1543, dtype: object"
      ]
     },
     "execution_count": 27,
     "metadata": {},
     "output_type": "execute_result"
    }
   ],
   "source": [
    "df.iloc[100,:]"
   ]
  },
  {
   "cell_type": "code",
   "execution_count": 23,
   "id": "de0d43b3-541e-4236-9b7f-4aa79807112a",
   "metadata": {},
   "outputs": [
    {
     "data": {
      "text/plain": [
       "timestamp           2023-06-14 08:48:35\n",
       "gsw                            0.088151\n",
       "date_time           2023-06-14 08:48:35\n",
       "timediff                0 days 00:00:06\n",
       "round                                16\n",
       "roundtime                        111012\n",
       "date                         2023-06-14\n",
       "rounddate    2023-06-14 08:48:23.500000\n",
       "labels                      14/06 08:48\n",
       "Name: 1543, dtype: object"
      ]
     },
     "execution_count": 23,
     "metadata": {},
     "output_type": "execute_result"
    }
   ],
   "source": [
    "df.iloc[100,:]"
   ]
  },
  {
   "cell_type": "code",
   "execution_count": 29,
   "id": "71627a96-b104-43e8-8d89-33f5088a103a",
   "metadata": {},
   "outputs": [
    {
     "data": {
      "text/plain": [
       "datetime.date(2023, 6, 14)"
      ]
     },
     "execution_count": 29,
     "metadata": {},
     "output_type": "execute_result"
    }
   ],
   "source": [
    "from datetime import datetime\n",
    "\n",
    "fecha_concreta = datetime.strptime(fecha_concreta_str, '%d/%m/%Y').date()\n",
    "\n",
    "# Filtra el DataFrame por la fecha concreta\n",
    "df_filtrado = df[df['date'] == fecha_concreta]\n",
    "\n",
    "fecha_concreta"
   ]
  },
  {
   "cell_type": "code",
   "execution_count": 54,
   "id": "26976a97-8bd8-4572-be47-94a6641ab372",
   "metadata": {},
   "outputs": [
    {
     "data": {
      "text/html": [
       "<div>\n",
       "<style scoped>\n",
       "    .dataframe tbody tr th:only-of-type {\n",
       "        vertical-align: middle;\n",
       "    }\n",
       "\n",
       "    .dataframe tbody tr th {\n",
       "        vertical-align: top;\n",
       "    }\n",
       "\n",
       "    .dataframe thead th {\n",
       "        text-align: right;\n",
       "    }\n",
       "</style>\n",
       "<table border=\"1\" class=\"dataframe\">\n",
       "  <thead>\n",
       "    <tr style=\"text-align: right;\">\n",
       "      <th></th>\n",
       "      <th>timestamp</th>\n",
       "      <th>gsw</th>\n",
       "      <th>date_time</th>\n",
       "      <th>timediff</th>\n",
       "      <th>round</th>\n",
       "    </tr>\n",
       "  </thead>\n",
       "  <tbody>\n",
       "    <tr>\n",
       "      <th>18</th>\n",
       "      <td>2023-03-29 06:40:41</td>\n",
       "      <td>0.255044</td>\n",
       "      <td>2023-03-29 06:40:41</td>\n",
       "      <td>NaT</td>\n",
       "      <td>0</td>\n",
       "    </tr>\n",
       "    <tr>\n",
       "      <th>19</th>\n",
       "      <td>2023-03-29 06:41:19</td>\n",
       "      <td>0.129455</td>\n",
       "      <td>2023-03-29 06:41:19</td>\n",
       "      <td>0 days 00:00:38</td>\n",
       "      <td>0</td>\n",
       "    </tr>\n",
       "    <tr>\n",
       "      <th>20</th>\n",
       "      <td>2023-03-29 06:41:36</td>\n",
       "      <td>0.166496</td>\n",
       "      <td>2023-03-29 06:41:36</td>\n",
       "      <td>0 days 00:00:17</td>\n",
       "      <td>0</td>\n",
       "    </tr>\n",
       "    <tr>\n",
       "      <th>21</th>\n",
       "      <td>2023-03-29 06:41:57</td>\n",
       "      <td>NaN</td>\n",
       "      <td>2023-03-29 06:41:57</td>\n",
       "      <td>0 days 00:00:21</td>\n",
       "      <td>0</td>\n",
       "    </tr>\n",
       "    <tr>\n",
       "      <th>22</th>\n",
       "      <td>2023-03-29 06:42:07</td>\n",
       "      <td>NaN</td>\n",
       "      <td>2023-03-29 06:42:07</td>\n",
       "      <td>0 days 00:00:10</td>\n",
       "      <td>0</td>\n",
       "    </tr>\n",
       "    <tr>\n",
       "      <th>...</th>\n",
       "      <td>...</td>\n",
       "      <td>...</td>\n",
       "      <td>...</td>\n",
       "      <td>...</td>\n",
       "      <td>...</td>\n",
       "    </tr>\n",
       "    <tr>\n",
       "      <th>5095</th>\n",
       "      <td>2023-08-01 09:06:59</td>\n",
       "      <td>0.016924</td>\n",
       "      <td>2023-08-01 09:06:59</td>\n",
       "      <td>0 days 00:00:07</td>\n",
       "      <td>53</td>\n",
       "    </tr>\n",
       "    <tr>\n",
       "      <th>5096</th>\n",
       "      <td>2023-08-01 09:07:06</td>\n",
       "      <td>0.013245</td>\n",
       "      <td>2023-08-01 09:07:06</td>\n",
       "      <td>0 days 00:00:07</td>\n",
       "      <td>53</td>\n",
       "    </tr>\n",
       "    <tr>\n",
       "      <th>5097</th>\n",
       "      <td>2023-08-01 09:07:18</td>\n",
       "      <td>0.046982</td>\n",
       "      <td>2023-08-01 09:07:18</td>\n",
       "      <td>0 days 00:00:12</td>\n",
       "      <td>53</td>\n",
       "    </tr>\n",
       "    <tr>\n",
       "      <th>5098</th>\n",
       "      <td>2023-08-01 09:07:27</td>\n",
       "      <td>0.041748</td>\n",
       "      <td>2023-08-01 09:07:27</td>\n",
       "      <td>0 days 00:00:09</td>\n",
       "      <td>53</td>\n",
       "    </tr>\n",
       "    <tr>\n",
       "      <th>5099</th>\n",
       "      <td>2023-08-01 09:07:34</td>\n",
       "      <td>0.055568</td>\n",
       "      <td>2023-08-01 09:07:34</td>\n",
       "      <td>0 days 00:00:07</td>\n",
       "      <td>53</td>\n",
       "    </tr>\n",
       "  </tbody>\n",
       "</table>\n",
       "<p>324 rows × 5 columns</p>\n",
       "</div>"
      ],
      "text/plain": [
       "               timestamp       gsw           date_time        timediff  round\n",
       "18   2023-03-29 06:40:41  0.255044 2023-03-29 06:40:41             NaT      0\n",
       "19   2023-03-29 06:41:19  0.129455 2023-03-29 06:41:19 0 days 00:00:38      0\n",
       "20   2023-03-29 06:41:36  0.166496 2023-03-29 06:41:36 0 days 00:00:17      0\n",
       "21   2023-03-29 06:41:57       NaN 2023-03-29 06:41:57 0 days 00:00:21      0\n",
       "22   2023-03-29 06:42:07       NaN 2023-03-29 06:42:07 0 days 00:00:10      0\n",
       "...                  ...       ...                 ...             ...    ...\n",
       "5095 2023-08-01 09:06:59  0.016924 2023-08-01 09:06:59 0 days 00:00:07     53\n",
       "5096 2023-08-01 09:07:06  0.013245 2023-08-01 09:07:06 0 days 00:00:07     53\n",
       "5097 2023-08-01 09:07:18  0.046982 2023-08-01 09:07:18 0 days 00:00:12     53\n",
       "5098 2023-08-01 09:07:27  0.041748 2023-08-01 09:07:27 0 days 00:00:09     53\n",
       "5099 2023-08-01 09:07:34  0.055568 2023-08-01 09:07:34 0 days 00:00:07     53\n",
       "\n",
       "[324 rows x 5 columns]"
      ]
     },
     "execution_count": 54,
     "metadata": {},
     "output_type": "execute_result"
    }
   ],
   "source": [
    "import plotly.graph_objects as go\n",
    "import pandas as pd\n",
    "import sf2gs_app.dfg2db as dfg\n",
    "from datetime import datetime\n",
    "\n",
    "#Read gs from DB and add round column to identify each round of repetitions\n",
    "DBTABLE='gs_irriwell2023'\n",
    "df=dfg.roundbox2023(DBTABLE,station=1,tree=2)\n",
    "df"
   ]
  },
  {
   "cell_type": "code",
   "execution_count": null,
   "id": "a0f78dd8-6d75-431b-9784-d79455095248",
   "metadata": {},
   "outputs": [],
   "source": []
  }
 ],
 "metadata": {
  "kernelspec": {
   "display_name": "Django Shell-Plus",
   "language": "python",
   "name": "django_extensions"
  },
  "language_info": {
   "codemirror_mode": {
    "name": "ipython",
    "version": 3
   },
   "file_extension": ".py",
   "mimetype": "text/x-python",
   "name": "python",
   "nbconvert_exporter": "python",
   "pygments_lexer": "ipython3",
   "version": "3.11.4"
  }
 },
 "nbformat": 4,
 "nbformat_minor": 5
}
